{
 "cells": [
  {
   "cell_type": "markdown",
   "id": "54d6a7e3",
   "metadata": {},
   "source": [
    "Exercise Level 1"
   ]
  },
  {
   "cell_type": "code",
   "execution_count": null,
   "id": "1a8a634e",
   "metadata": {},
   "outputs": [],
   "source": [
    "#Q1\n",
    "import random\n",
    "import string\n",
    "def random_user_id():\n",
    "    characters = string.ascii_letters + string.digits\n",
    "    return ''.join(random.choice(characters) for i in range (6))\n",
    "print(random_user_id())"
   ]
  },
  {
   "cell_type": "code",
   "execution_count": 55,
   "id": "12f40ef3",
   "metadata": {},
   "outputs": [
    {
     "name": "stdout",
     "output_type": "stream",
     "text": [
      "Number of Characters:5\n",
      "Number of IDs:5\n",
      "['Rra7B', '2X4Nl', 'gVPpu', 'bKJnR', '9UrUQ']\n",
      "Number of Characters:16\n",
      "Number of IDs:5\n",
      "['f5tTJJQcuLPjB7LU', 'bA3bpS6DDU2nZpDO', 'Nd8Uc7fyExkFO3Hz', 'rjVUr0qJuj5aWhvD', '8brulNG1pD1Kh0RC']\n"
     ]
    }
   ],
   "source": [
    "#Q2\n",
    "import random\n",
    "import string\n",
    "def user_id_gen_by_user():\n",
    "    num_chars = int(input('Number of Characters:'))\n",
    "    num_ids = int(input('Number of IDs:'))\n",
    "    characters = string.ascii_letters + string.digits\n",
    "    user_ids = []\n",
    "    for i in range (num_ids):\n",
    "        user_id = ''.join(random.choice(characters) for j in range (num_chars))\n",
    "        user_ids.append(user_id)\n",
    "    \n",
    "    return user_ids\n",
    "                           \n",
    "print(user_id_gen_by_user())\n",
    "print(user_id_gen_by_user())"
   ]
  },
  {
   "cell_type": "code",
   "execution_count": 61,
   "id": "15098957",
   "metadata": {},
   "outputs": [
    {
     "name": "stdout",
     "output_type": "stream",
     "text": [
      "rgb(233, 235, 116)\n"
     ]
    }
   ],
   "source": [
    "#Q3 \n",
    "import random\n",
    "def rgb_color_gen ():\n",
    "    red_color_code = random.randint(0,255)\n",
    "    green_color_code = random.randint(0,255)\n",
    "    blue_color_code = random.randint(0,255)\n",
    "    return 'rgb({}, {}, {})'.format(red_color_code, green_color_code, blue_color_code)\n",
    "print(rgb_color_gen())"
   ]
  },
  {
   "cell_type": "markdown",
   "id": "f7ce5bc0",
   "metadata": {},
   "source": [
    "Exercise Level 2"
   ]
  },
  {
   "cell_type": "code",
   "execution_count": null,
   "id": "eda30205",
   "metadata": {},
   "outputs": [],
   "source": []
  },
  {
   "cell_type": "code",
   "execution_count": 79,
   "id": "b5d91b1d",
   "metadata": {},
   "outputs": [
    {
     "name": "stdout",
     "output_type": "stream",
     "text": [
      "['#c7ca45', '#a16aff', '#c63fa2', '#d747ff', '#500204']\n"
     ]
    }
   ],
   "source": [
    "#Q1\n",
    "def list_of_hexa_colors(colors):\n",
    "    hexa_chars = string.digits + 'abcdef'\n",
    "    hexa_colors = []\n",
    "    for i in range(colors):\n",
    "        hexa_color = ''.join(random.choice(hexa_chars) for j in range(6))\n",
    "        hexa_colors.append('#' + hexa_color)\n",
    "    return hexa_colors\n",
    "print(list_of_hexa_colors(5))"
   ]
  },
  {
   "cell_type": "code",
   "execution_count": 91,
   "id": "1e8d975d",
   "metadata": {
    "scrolled": true
   },
   "outputs": [
    {
     "name": "stdout",
     "output_type": "stream",
     "text": [
      "[(160, 112, 192), (24, 121, 206)]\n"
     ]
    }
   ],
   "source": [
    "#Q2\n",
    "def list_of_rgb_colors (n):\n",
    "    colors = []\n",
    "    for i in range(n):\n",
    "        red = random.randint(0, 255)\n",
    "        green = random.randint(0, 255)\n",
    "        blue = random.randint(0, 255)\n",
    "        colors.append((red, green, blue))\n",
    "    return colors\n",
    "print(list_of_rgb_colors(2))"
   ]
  },
  {
   "cell_type": "code",
   "execution_count": 92,
   "id": "e7df34b2",
   "metadata": {},
   "outputs": [
    {
     "name": "stdout",
     "output_type": "stream",
     "text": [
      "A random RGB value: [221, 253, 90]\n"
     ]
    }
   ],
   "source": [
    "import random\n",
    "r = random.randint(0, 255)\n",
    "g = random.randint(0, 255)\n",
    "b = random.randint(0, 255)\n",
    "rgb = [r, g, b]\n",
    "print('A random RGB value:', rgb)\n"
   ]
  },
  {
   "cell_type": "markdown",
   "id": "fd8c0a2f",
   "metadata": {},
   "source": [
    "Exercises: Level 3"
   ]
  },
  {
   "cell_type": "code",
   "execution_count": 96,
   "id": "121ef08c",
   "metadata": {},
   "outputs": [
    {
     "name": "stdout",
     "output_type": "stream",
     "text": [
      "['Orange', 'Onion', 'Pawpaw', 'Apple']\n",
      "['Orange', 'Apple', 'Onion', 'Pawpaw']\n",
      "['Apple', 'Onion', 'Orange', 'Pawpaw']\n"
     ]
    }
   ],
   "source": [
    "#Q1\n",
    "import random\n",
    "def shuffle_list ():\n",
    "    my_list = ['Apple', 'Orange', 'Onion', 'Pawpaw']\n",
    "    random.shuffle(my_list)\n",
    "    return my_list\n",
    "print(shuffle_list())\n",
    "print(shuffle_list())\n",
    "print(shuffle_list())"
   ]
  },
  {
   "cell_type": "code",
   "execution_count": 99,
   "id": "f90b6917",
   "metadata": {},
   "outputs": [
    {
     "name": "stdout",
     "output_type": "stream",
     "text": [
      "[5, 1, 8, 2, 0, 6, 3]\n"
     ]
    }
   ],
   "source": [
    "#Q2\n",
    "def unique_number ():\n",
    "    numbers  = random.sample(range(10), 7)\n",
    "    return numbers\n",
    "print(unique_number())"
   ]
  },
  {
   "cell_type": "code",
   "execution_count": null,
   "id": "db59432d",
   "metadata": {},
   "outputs": [],
   "source": []
  },
  {
   "cell_type": "code",
   "execution_count": null,
   "id": "4a8fd65c",
   "metadata": {},
   "outputs": [],
   "source": []
  }
 ],
 "metadata": {
  "kernelspec": {
   "display_name": "Python 3 (ipykernel)",
   "language": "python",
   "name": "python3"
  },
  "language_info": {
   "codemirror_mode": {
    "name": "ipython",
    "version": 3
   },
   "file_extension": ".py",
   "mimetype": "text/x-python",
   "name": "python",
   "nbconvert_exporter": "python",
   "pygments_lexer": "ipython3",
   "version": "3.9.12"
  }
 },
 "nbformat": 4,
 "nbformat_minor": 5
}
