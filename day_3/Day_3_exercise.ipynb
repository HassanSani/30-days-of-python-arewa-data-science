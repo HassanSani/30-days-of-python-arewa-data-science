{
 "cells": [
  {
   "cell_type": "code",
   "execution_count": 2,
   "id": "e48a9c12",
   "metadata": {},
   "outputs": [
    {
     "name": "stdout",
     "output_type": "stream",
     "text": [
      "31\n",
      "6.5\n",
      "(2+4j)\n"
     ]
    }
   ],
   "source": [
    "# question 1-4\n",
    "\n",
    "age=31\n",
    "height=6.5\n",
    "complex_number=2+4j\n",
    "print(age)\n",
    "print(height)\n",
    "print(complex_number)"
   ]
  },
  {
   "cell_type": "code",
   "execution_count": 5,
   "id": "485b4dba",
   "metadata": {},
   "outputs": [
    {
     "name": "stdout",
     "output_type": "stream",
     "text": [
      "Enter side a:5\n",
      "Enter side b:4\n",
      "Enter side c:3\n",
      "Perimeter of a triangle: 12\n"
     ]
    }
   ],
   "source": [
    "#question 5.  Write a script that prompts the user to enter side a, side b, and side c of the triangle.\n",
    "#Calculate the perimeter of the triangle (perimeter = a + b + c).\n",
    "# Enter side a: 5\n",
    "#Enter side b: 4\n",
    "#Enter side c: 3\n",
    "#The perimeter of the triangle\n",
    "side_a = int(input('Enter side a:'))\n",
    "side_b = int(input('Enter side b:'))\n",
    "side_c = int(input('Enter side c:'))\n",
    "perimeter= (side_a + side_b + side_c)\n",
    "print('Perimeter of a triangle:', perimeter)"
   ]
  },
  {
   "cell_type": "code",
   "execution_count": 6,
   "id": "e53d0dd4",
   "metadata": {},
   "outputs": [
    {
     "name": "stdout",
     "output_type": "stream",
     "text": [
      "Enter length:4\n",
      "Enter widht:5\n",
      "20\n"
     ]
    }
   ],
   "source": [
    "# question 6\n",
    "#Get length and width of a rectangle using prompt. Calculate its area (area = length x\n",
    "#width) and perimeter (perimeter = 2 x (length + width)). say length=4, width=5\n",
    "length = int(input('Enter length:'))\n",
    "width = int(input('Enter widht:'))\n",
    "area= (length*width)\n",
    "print(area)"
   ]
  },
  {
   "cell_type": "code",
   "execution_count": 7,
   "id": "5505cdf7",
   "metadata": {},
   "outputs": [
    {
     "name": "stdout",
     "output_type": "stream",
     "text": [
      "Circumference: 18.84\n",
      "Area: 28.259999999999998\n"
     ]
    }
   ],
   "source": [
    "#Question 7\n",
    "#Get radius of a circle using prompt. Calculate the area (area = pi x r x r) and\n",
    "#circumference (c = 2 x pi x r) where pi = 3.14. say r=3\n",
    "\n",
    "r=3\n",
    "area=3.14*r*r\n",
    "c=2*3.14*r\n",
    "print('Circumference:', c)\n",
    "print('Area:', area)"
   ]
  },
  {
   "cell_type": "code",
   "execution_count": 32,
   "id": "0395eac5",
   "metadata": {},
   "outputs": [
    {
     "name": "stdout",
     "output_type": "stream",
     "text": [
      "Coordinate of Y: 6\n",
      "Coordinate of X: 4\n",
      "Slope: 2.0\n",
      "Y intercept: -2.0\n",
      "X intercept: -1.0\n"
     ]
    }
   ],
   "source": [
    "#Calculate the slope, x-intercept and y-intercept of y = 2x -2\n",
    "#with the expression y=mx+b,\n",
    "#to find slope\n",
    "#Assuming,x=4\n",
    "x=4\n",
    "y=(2*x)-2\n",
    "print('Coordinate of Y:', y)\n",
    "print('Coordinate of X:', x)\n",
    "m=(y-b)/x\n",
    "print('Slope:', m)\n",
    "b=y-(m*x)\n",
    "print('Y intercept:', b)\n",
    "# to find X intrcept make y 0\n",
    "x=(b-0)/m\n",
    "print('X intercept:', x)"
   ]
  },
  {
   "cell_type": "code",
   "execution_count": 35,
   "id": "ddd2e06d",
   "metadata": {},
   "outputs": [
    {
     "name": "stdout",
     "output_type": "stream",
     "text": [
      "Slope: 2.0\n",
      "Euclidian distance from x to y: 8.94427190999916\n"
     ]
    }
   ],
   "source": [
    "# Question 9\n",
    "#Slope is (m = y2-y1/x2-x1). Find the slope and Euclidean distance between point (2, 2)\n",
    "# and point (6,10)\n",
    "x1=2\n",
    "x2=6\n",
    "y1=2\n",
    "y2=10\n",
    "m1=(y2-y1)/(x2-x1)\n",
    "print('Slope:', m1)\n",
    "\n",
    "#Find an Euclidian distance between (2, 2) and (6, 10)\n",
    "\n",
    "import math\n",
    "x= (2,2)\n",
    "y= (6, 10)\n",
    "distance= math.sqrt(sum([(a-b)**2 for a, b in zip(x,y)]))\n",
    "print(\"Euclidian distance from x to y:\", distance)\n"
   ]
  },
  {
   "cell_type": "code",
   "execution_count": 36,
   "id": "2ef84018",
   "metadata": {},
   "outputs": [
    {
     "name": "stdout",
     "output_type": "stream",
     "text": [
      "True\n"
     ]
    }
   ],
   "source": [
    "# question 10. Compare the slopes in tasks 8 and 9.\n",
    "print(m==m1)"
   ]
  },
  {
   "cell_type": "code",
   "execution_count": 8,
   "id": "7a0b7270",
   "metadata": {},
   "outputs": [
    {
     "data": {
      "text/plain": [
       "6"
      ]
     },
     "execution_count": 8,
     "metadata": {},
     "output_type": "execute_result"
    }
   ],
   "source": [
    "# Find the length of 'python' and 'dragon' and make a falsy comparison statem\n",
    "len('python')"
   ]
  },
  {
   "cell_type": "code",
   "execution_count": 9,
   "id": "b1e0616c",
   "metadata": {},
   "outputs": [
    {
     "data": {
      "text/plain": [
       "6"
      ]
     },
     "execution_count": 9,
     "metadata": {},
     "output_type": "execute_result"
    }
   ],
   "source": [
    "len('dragon')"
   ]
  },
  {
   "cell_type": "code",
   "execution_count": 10,
   "id": "3b62ceaf",
   "metadata": {},
   "outputs": [
    {
     "data": {
      "text/plain": [
       "True"
      ]
     },
     "execution_count": 10,
     "metadata": {},
     "output_type": "execute_result"
    }
   ],
   "source": [
    "len('python')==len('dragon')"
   ]
  },
  {
   "cell_type": "code",
   "execution_count": 11,
   "id": "d218c8ee",
   "metadata": {},
   "outputs": [
    {
     "data": {
      "text/plain": [
       "False"
      ]
     },
     "execution_count": 11,
     "metadata": {},
     "output_type": "execute_result"
    }
   ],
   "source": [
    "len('python')!=len('dragon')"
   ]
  },
  {
   "cell_type": "code",
   "execution_count": 13,
   "id": "308ee86f",
   "metadata": {},
   "outputs": [
    {
     "name": "stdout",
     "output_type": "stream",
     "text": [
      "on in Dragon True\n",
      "on in Python True\n",
      "on in Dragon True\n",
      "on in Dragon and Python True\n"
     ]
    }
   ],
   "source": [
    "# Use and operator to check if 'on' is found in both 'python' and 'dragon'\n",
    "print('on in Dragon', 'on' in 'dragon') \n",
    "print('on in Python', 'on' in 'python') \n",
    "print('on in Dragon', 'on' in 'dragon') and print('on in Python', 'on' in 'python') \n",
    "print('on in Dragon and Python', 'on' in 'dragon' and 'on' in 'python') "
   ]
  },
  {
   "cell_type": "code",
   "execution_count": 14,
   "id": "bb19bb3e",
   "metadata": {},
   "outputs": [
    {
     "name": "stdout",
     "output_type": "stream",
     "text": [
      "jargon is in the sentence True\n"
     ]
    }
   ],
   "source": [
    "# I hope this course is not full of jargon. Use in operator to check if jargon is in the\n",
    "#sentence.\n",
    "print('jargon is in the sentence', 'jargon' in 'I hope this course is not full of jargon')\n"
   ]
  },
  {
   "cell_type": "code",
   "execution_count": 15,
   "id": "2295a6b2",
   "metadata": {},
   "outputs": [
    {
     "name": "stdout",
     "output_type": "stream",
     "text": [
      "False\n"
     ]
    }
   ],
   "source": [
    "# There is no 'on' in both dragon and python\n",
    "print('on' not in 'dragon' and python)"
   ]
  },
  {
   "cell_type": "code",
   "execution_count": 16,
   "id": "1a0d2385",
   "metadata": {},
   "outputs": [
    {
     "name": "stdout",
     "output_type": "stream",
     "text": [
      "6.0\n",
      "6\n"
     ]
    }
   ],
   "source": [
    "# Find the length of the text python and convert the value to float and convert it to\n",
    "#string\n",
    "print(float(len('python')))\n",
    "print(str(len('python')))"
   ]
  },
  {
   "cell_type": "code",
   "execution_count": 17,
   "id": "d92499ca",
   "metadata": {},
   "outputs": [
    {
     "name": "stdout",
     "output_type": "stream",
     "text": [
      "Enter a number to tes if its odd or even:3\n",
      "The number is odd\n"
     ]
    }
   ],
   "source": [
    "# Even numbers are divisible by 2 and the remainder is zero. How do you check if a\n",
    "#number is even or not using python?\n",
    "num=int(input('Enter a number to tes if its odd or even:'))\n",
    "if (num%2)==0:\n",
    "    print('The number is even')\n",
    "else:\n",
    "    print('The number is odd')\n"
   ]
  },
  {
   "cell_type": "code",
   "execution_count": 18,
   "id": "03d38161",
   "metadata": {},
   "outputs": [
    {
     "data": {
      "text/plain": [
       "True"
      ]
     },
     "execution_count": 18,
     "metadata": {},
     "output_type": "execute_result"
    }
   ],
   "source": [
    "# Check if the floor division of 7 by 3 is equal to the int converted value of 2.7.\n",
    "7//3==int(2.7)"
   ]
  },
  {
   "cell_type": "code",
   "execution_count": 19,
   "id": "fa92aee1",
   "metadata": {},
   "outputs": [
    {
     "data": {
      "text/plain": [
       "False"
      ]
     },
     "execution_count": 19,
     "metadata": {},
     "output_type": "execute_result"
    }
   ],
   "source": [
    "#  Check if type of '10' is equal to type of 10\n",
    "'10'==10"
   ]
  },
  {
   "cell_type": "code",
   "execution_count": 20,
   "id": "a98c0237",
   "metadata": {},
   "outputs": [
    {
     "data": {
      "text/plain": [
       "False"
      ]
     },
     "execution_count": 20,
     "metadata": {},
     "output_type": "execute_result"
    }
   ],
   "source": [
    "# Check if int('9.8') is equal to 10\n",
    "int(9.8)==10"
   ]
  },
  {
   "cell_type": "code",
   "execution_count": 21,
   "id": "62e90f94",
   "metadata": {},
   "outputs": [
    {
     "name": "stdout",
     "output_type": "stream",
     "text": [
      "Hours worked:40\n",
      "Rate per hours worked28\n",
      "Pay of the person: 1120\n"
     ]
    }
   ],
   "source": [
    "# Writ a script that prompts the user to enter hours and rate per hour. Calculate pay of\n",
    "#the person?\n",
    "#Enter hours: 40\n",
    "#Enter rate per hour: 28\n",
    "#Your weekly earning is 1120\n",
    "hours=int(input('Hours worked:'))\n",
    "rate_per_hour=int(input('Rate per hours worked'))\n",
    "weekly_earning = hours*rate_per_hour\n",
    "print('Pay of the person:', weekly_earning)\n"
   ]
  },
  {
   "cell_type": "code",
   "execution_count": 22,
   "id": "8563bf98",
   "metadata": {},
   "outputs": [
    {
     "name": "stdout",
     "output_type": "stream",
     "text": [
      "Enter your age:28\n",
      "Seconds livabe: 88300800000\n"
     ]
    }
   ],
   "source": [
    "# Write a script that prompts the user to enter number of years. Calculate the number\n",
    "# of seconds a person can live. Assume a person can live hundred years\n",
    "# Enter number of years you have lived: 100\n",
    "# You have lived for 3153600000 seconds.\n",
    "years=int(input('Enter your age:'))\n",
    "year_in_s=3153600000\n",
    "scbl=years*year_in_s\n",
    "print('Seconds livabe:', scbl)"
   ]
  },
  {
   "cell_type": "code",
   "execution_count": 23,
   "id": "b47ab023",
   "metadata": {},
   "outputs": [
    {
     "name": "stdout",
     "output_type": "stream",
     "text": [
      "1 1 1 1 1\n",
      "2 1 2 4 8\n",
      "3 1 3 9 27\n",
      "4 1 4 16 64\n",
      "5 1 5 25 125\n"
     ]
    }
   ],
   "source": [
    "#  Write a Python script that displays the following table\n",
    "# 1 1 1 1 1\n",
    "#2 1 2 4 8\n",
    "#3 1 3 9 27\n",
    "#4 1 4 16 64\n",
    "#5 1 5 25 125\n",
    "print('1 1 1 1 1')\n",
    "print('2 1 2 4 8')\n",
    "print('3 1 3 9 27')\n",
    "print('4 1 4 16 64')\n",
    "print('5 1 5 25 125')"
   ]
  },
  {
   "cell_type": "code",
   "execution_count": null,
   "id": "cc105e66",
   "metadata": {},
   "outputs": [],
   "source": []
  },
  {
   "cell_type": "code",
   "execution_count": null,
   "id": "0e815ddf",
   "metadata": {},
   "outputs": [],
   "source": []
  },
  {
   "cell_type": "code",
   "execution_count": null,
   "id": "1cc6ee99",
   "metadata": {},
   "outputs": [],
   "source": []
  },
  {
   "cell_type": "code",
   "execution_count": null,
   "id": "8e16d63c",
   "metadata": {},
   "outputs": [],
   "source": []
  },
  {
   "cell_type": "code",
   "execution_count": null,
   "id": "e497bffb",
   "metadata": {},
   "outputs": [],
   "source": []
  }
 ],
 "metadata": {
  "kernelspec": {
   "display_name": "Python 3 (ipykernel)",
   "language": "python",
   "name": "python3"
  },
  "language_info": {
   "codemirror_mode": {
    "name": "ipython",
    "version": 3
   },
   "file_extension": ".py",
   "mimetype": "text/x-python",
   "name": "python",
   "nbconvert_exporter": "python",
   "pygments_lexer": "ipython3",
   "version": "3.9.12"
  }
 },
 "nbformat": 4,
 "nbformat_minor": 5
}
