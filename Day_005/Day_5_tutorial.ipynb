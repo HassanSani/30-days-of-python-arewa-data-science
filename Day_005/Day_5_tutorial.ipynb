{
 "cells": [
  {
   "cell_type": "markdown",
   "id": "36cde29b",
   "metadata": {},
   "source": [
    "# Day 5 lists"
   ]
  },
  {
   "cell_type": "raw",
   "id": "6802f06c",
   "metadata": {},
   "source": [
    "there are four data colection types in python\n",
    "1. List: is a collection which is ordered and changeable(modifiable). Allows duplicate\n",
    "members.\n",
    "2. Tuple: is a collection which is ordered and unchangeable or unmodifiable(immutable).\n",
    "Allows duplicate members.\n",
    "3. Set: is a collection which is unordered, un-indexed and unmodifiable, but we can add\n",
    "new items to the set. Duplicate members are not allowed.\n",
    "D4. ictionary: is a collection which is unordered, changeable(modifiable) and indexed. No\n",
    "duplicate members."
   ]
  },
  {
   "cell_type": "raw",
   "id": "92cdc357",
   "metadata": {},
   "source": [
    "A list is collection of different data types which is ordered and modifiable(mutable). A list\n",
    "can be empty or it may have different data type items."
   ]
  },
  {
   "cell_type": "raw",
   "id": "0341958e",
   "metadata": {},
   "source": [
    "How to Create a List\n",
    "In Python we can create lists in two ways:\n",
    "1. Using list built-in function"
   ]
  },
  {
   "cell_type": "code",
   "execution_count": 1,
   "id": "7bee6a70",
   "metadata": {},
   "outputs": [
    {
     "name": "stdout",
     "output_type": "stream",
     "text": [
      "0\n"
     ]
    }
   ],
   "source": [
    "# syntax\n",
    "lst = list()\n",
    "empty_list = list() # this is an empty list, no item in the list\n",
    "print(len(empty_list)) # 0\n"
   ]
  },
  {
   "cell_type": "raw",
   "id": "1256b8fe",
   "metadata": {},
   "source": [
    "2. Using square brackets, []"
   ]
  },
  {
   "cell_type": "code",
   "execution_count": 5,
   "id": "7b1179f6",
   "metadata": {},
   "outputs": [
    {
     "name": "stdout",
     "output_type": "stream",
     "text": [
      "0\n"
     ]
    }
   ],
   "source": [
    "# syntax\n",
    "list = []\n",
    "empty_list = [] # this is an empty list, no item in the list\n",
    "print(len(empty_list)) # 0\n"
   ]
  },
  {
   "cell_type": "raw",
   "id": "e01596a0",
   "metadata": {},
   "source": [
    "Lists with initial values. We use len() to find the length of a list."
   ]
  },
  {
   "cell_type": "code",
   "execution_count": 7,
   "id": "85d7478d",
   "metadata": {},
   "outputs": [
    {
     "name": "stdout",
     "output_type": "stream",
     "text": [
      "Fruits: ['banana', 'orange', 'mango', 'lemon']\n",
      "Number of fruits: 4\n",
      "Vegetables: ['Tomato', 'Potato', 'Cabbage', 'Onion', 'Carrot']\n",
      "Number of vegetables: 5\n",
      "Animal products: ['milk', 'meat', 'butter', 'yoghurt']\n",
      "Number of animal products: 4\n",
      "Web technologies: ['HTML', 'CSS', 'JS', 'React', 'Redux', 'Node', 'MongDB']\n",
      "Number of web technologies: 7\n",
      "Countries: ['Finland', 'Estonia', 'Denmark', 'Sweden', 'Norway']\n",
      "Number of countries: 5\n"
     ]
    }
   ],
   "source": [
    "fruits = ['banana', 'orange', 'mango', 'lemon'] # list of fruits\n",
    "vegetables = ['Tomato', 'Potato', 'Cabbage','Onion', 'Carrot'] # list of vegetables\n",
    "animal_products = ['milk', 'meat', 'butter', 'yoghurt'] # list of animal products\n",
    "web_techs = ['HTML', 'CSS', 'JS', 'React','Redux', 'Node', 'MongDB'] # list of web techs\n",
    "countries = ['Finland', 'Estonia', 'Denmark', 'Sweden', 'Norway'] # list of counttries\n",
    "# Print the lists and its length\n",
    "print('Fruits:', fruits)\n",
    "print('Number of fruits:', len(fruits))\n",
    "print('Vegetables:', vegetables)\n",
    "print('Number of vegetables:', len(vegetables))\n",
    "print('Animal products:',animal_products)\n",
    "print('Number of animal products:', len(animal_products))\n",
    "print('Web technologies:', web_techs)\n",
    "print('Number of web technologies:', len(web_techs))\n",
    "print('Countries:', countries)\n",
    "print('Number of countries:', len(countries))"
   ]
  },
  {
   "cell_type": "raw",
   "id": "402117aa",
   "metadata": {},
   "source": [
    "Lists can have items of different data types"
   ]
  },
  {
   "cell_type": "code",
   "execution_count": 9,
   "id": "843557e1",
   "metadata": {},
   "outputs": [
    {
     "name": "stdout",
     "output_type": "stream",
     "text": [
      "['Asabeneh', 250, True, {'country': 'Finland', 'city': 'Helsinki'}]\n"
     ]
    }
   ],
   "source": [
    "list = ['Asabeneh', 250, True, {'country':'Finland', 'city':'Helsinki'}] # lis\n",
    "print(list)"
   ]
  },
  {
   "cell_type": "markdown",
   "id": "2c53e79d",
   "metadata": {},
   "source": [
    "\n",
    "# Accessing List Items Using Positive Indexing"
   ]
  },
  {
   "cell_type": "raw",
   "id": "ab8c8315",
   "metadata": {},
   "source": [
    "Accessing List Items Using Positive Indexing"
   ]
  },
  {
   "cell_type": "code",
   "execution_count": 10,
   "id": "dd87be14",
   "metadata": {},
   "outputs": [
    {
     "name": "stdout",
     "output_type": "stream",
     "text": [
      "banana\n",
      "orange\n",
      "lemon\n"
     ]
    }
   ],
   "source": [
    "fruits = ['banana', 'orange', 'mango', 'lemon']\n",
    "first_fruit = fruits[0] # we are accessing the first item using its index\n",
    "print(first_fruit) # banana\n",
    "second_fruit = fruits[1]\n",
    "print(second_fruit) # orange\n",
    "last_fruit = fruits[3]\n",
    "print(last_fruit) # lemon\n",
    "# Last index\n",
    "last_index = len(fruits) - 1\n",
    "last_fruit = fruits[last_index]"
   ]
  },
  {
   "cell_type": "markdown",
   "id": "12e4c4fa",
   "metadata": {},
   "source": [
    "# Accessing List Items Using Negative Indexing"
   ]
  },
  {
   "cell_type": "raw",
   "id": "d5bd1d89",
   "metadata": {},
   "source": [
    "Negative indexing means beginning from the end, -1 refers to the last item, -2 refers to the\n",
    "second last item."
   ]
  },
  {
   "cell_type": "code",
   "execution_count": 11,
   "id": "a5158323",
   "metadata": {},
   "outputs": [
    {
     "name": "stdout",
     "output_type": "stream",
     "text": [
      "banana\n",
      "lemon\n",
      "mango\n"
     ]
    }
   ],
   "source": [
    "fruits = ['banana', 'orange', 'mango', 'lemon']\n",
    "first_fruit = fruits[-4]\n",
    "last_fruit = fruits[-1]\n",
    "second_last = fruits[-2]\n",
    "print(first_fruit) # banana\n",
    "print(last_fruit) # lemon\n",
    "print(second_last) # man"
   ]
  },
  {
   "cell_type": "markdown",
   "id": "883bbe11",
   "metadata": {},
   "source": [
    "\n",
    "# Unpacking List Items"
   ]
  },
  {
   "cell_type": "code",
   "execution_count": 12,
   "id": "3e6edd35",
   "metadata": {},
   "outputs": [
    {
     "name": "stdout",
     "output_type": "stream",
     "text": [
      "item\n",
      "item2\n",
      "item3\n",
      "['item4', 'item5']\n"
     ]
    }
   ],
   "source": [
    "lst = ['item','item2','item3', 'item4', 'item5']\n",
    "first_item, second_item, third_item, *rest = lst\n",
    "print(first_item) # item1\n",
    "print(second_item) # item2\n",
    "print(third_item) # item3\n",
    "print(rest) # ['item4', 'item5']"
   ]
  },
  {
   "cell_type": "code",
   "execution_count": 16,
   "id": "64e246ec",
   "metadata": {},
   "outputs": [
    {
     "name": "stdout",
     "output_type": "stream",
     "text": [
      "item\n",
      "item2\n",
      "item3\n",
      "['item4', 'item5']\n",
      "1\n",
      "2\n",
      "3\n",
      "[4, 5, 6, 7, 8]\n",
      "9\n",
      "10\n",
      "Germany\n",
      "France\n",
      "Belgium\n",
      "Sweden\n",
      "['Denmark', 'Finland']\n",
      "Norway\n"
     ]
    }
   ],
   "source": [
    "# First Example\n",
    "fruits = ['banana', 'orange', 'mango', 'lemon','lime','apple']\n",
    "first_fruit, second_fruit, third_fruit, *rest = lst\n",
    "print(first_fruit) # banana\n",
    "print(second_fruit) # orange\n",
    "print(third_fruit) # mango\n",
    "print(rest) # ['lemon','lime','apple']\n",
    "# Second Example about unpacking list\n",
    "first, second, third,*rest, nineth, tenth = [1,2,3,4,5,6,7,8,9,10]\n",
    "print(first) # 1\n",
    "print(second) # 2\n",
    "print(third) # 3\n",
    "print(rest) # [4,5,6,7,8]\n",
    "print(nineth) # 9\n",
    "print(tenth) # 10\n",
    "# Third Example about unpacking list\n",
    "countries = ['Germany', 'France','Belgium','Sweden','Denmark','Finland','Norway']\n",
    "gr, fr, bg, sw, *scandic, es = countries\n",
    "print(gr)\n",
    "print(fr)\n",
    "print(bg)\n",
    "print(sw)\n",
    "print(scandic)\n",
    "print(es)"
   ]
  },
  {
   "cell_type": "markdown",
   "id": "553c8b4b",
   "metadata": {},
   "source": [
    "# Slicing Items from a List"
   ]
  },
  {
   "cell_type": "raw",
   "id": "866094b0",
   "metadata": {},
   "source": [
    "Positive Indexing: We can specify a range of positive indexes by specifying the start,\n",
    "end and step, the return value will be a new list. (default values for start = 0, end =\n",
    "len(lst) - 1 (last item), step = 1)"
   ]
  },
  {
   "cell_type": "code",
   "execution_count": 23,
   "id": "1304f4b8",
   "metadata": {},
   "outputs": [
    {
     "name": "stdout",
     "output_type": "stream",
     "text": [
      "['banana', 'orange', 'mango', 'lemon']\n",
      "['orange', 'mango']\n",
      "['orange', 'mango', 'lemon']\n",
      "['banana', 'mango']\n"
     ]
    }
   ],
   "source": [
    "fruits = ['banana', 'orange', 'mango', 'lemon']\n",
    "all_fruits = fruits[0:4] # it returns all the fruits\n",
    "# this will also give the same result as the one above\n",
    "all_fruits = fruits[0:]# if we don't set where to stop it takes all the rest\n",
    "print(all_fruits)\n",
    "orange_and_mango = fruits[1:3] # it does not include the first index\n",
    "print(orange_and_mango)\n",
    "orange_mango_lemon = fruits[1:]\n",
    "print(orange_mango_lemon)\n",
    "orange_and_lemon = fruits[::2] # here we used a 3rd argument, step. It will tak\n",
    "print(orange_and_lemon)"
   ]
  },
  {
   "cell_type": "raw",
   "id": "cc35301c",
   "metadata": {},
   "source": [
    "Negative Indexing: We can specify a range of negative indexes by specifying the start,\n",
    "end and step, the return value will be a new list."
   ]
  },
  {
   "cell_type": "code",
   "execution_count": 25,
   "id": "c0df9045",
   "metadata": {},
   "outputs": [
    {
     "name": "stdout",
     "output_type": "stream",
     "text": [
      "['banana', 'orange', 'mango', 'lemon']\n",
      "['orange', 'mango']\n",
      "['orange', 'mango', 'lemon']\n",
      "['lemon', 'mango', 'orange', 'banana']\n"
     ]
    }
   ],
   "source": [
    "fruits = ['banana', 'orange', 'mango', 'lemon']\n",
    "all_fruits = fruits[-4:] # it returns all the fruits\n",
    "print(all_fruits)\n",
    "orange_and_mango = fruits[-3:-1] # it does not include the last index,['orange\n",
    "print(orange_and_mango)\n",
    "orange_mango_lemon = fruits[-3:] # this will give starting from -3 to the end,\n",
    "print(orange_mango_lemon)\n",
    "reverse_fruits = fruits[::-1] # a negative step will take the list in reverse \n",
    "print(reverse_fruits)"
   ]
  },
  {
   "cell_type": "markdown",
   "id": "45892290",
   "metadata": {},
   "source": [
    "# Modifying Lists\n",
    "List is a mutable or modifiable ordered collection of items. Lets modify the fruit list."
   ]
  },
  {
   "cell_type": "code",
   "execution_count": 27,
   "id": "a92b6fd4",
   "metadata": {},
   "outputs": [
    {
     "name": "stdout",
     "output_type": "stream",
     "text": [
      "['avocado', 'orange', 'mango', 'lemon']\n",
      "['avocado', 'apple', 'mango', 'lemon']\n",
      "['avocado', 'apple', 'mango', 'lime']\n"
     ]
    }
   ],
   "source": [
    "fruits = ['banana', 'orange', 'mango', 'lemon']\n",
    "fruits[0] = 'avocado' #converts banana to avocado\n",
    "print(fruits) # ['avocado', 'orange', 'mango', 'lemon']\n",
    "fruits[1] = 'apple' # converts orange to apple\n",
    "print(fruits) # ['avocado', 'apple', 'mango', 'lemon']\n",
    "last_index = len(fruits) - 1 # converts lasst index into lime\n",
    "fruits[last_index] = 'lime'\n",
    "print(fruits) # ['avocado', 'apple', 'mango', 'lime']"
   ]
  },
  {
   "cell_type": "markdown",
   "id": "8324d612",
   "metadata": {},
   "source": [
    "# Checking Items in a List\n",
    "Checking an item if it is a member of a list using in operator. See the example below."
   ]
  },
  {
   "cell_type": "code",
   "execution_count": 28,
   "id": "19fc384e",
   "metadata": {},
   "outputs": [
    {
     "name": "stdout",
     "output_type": "stream",
     "text": [
      "True\n",
      "False\n"
     ]
    }
   ],
   "source": [
    "fruits = ['banana', 'orange', 'mango', 'lemon']\n",
    "does_exist = 'banana' in fruits\n",
    "print(does_exist) # True\n",
    "does_exist = 'lime' in fruits\n",
    "print(does_exist) # False\n"
   ]
  },
  {
   "cell_type": "raw",
   "id": "af82b027",
   "metadata": {},
   "source": [
    "Adding Items to a List\n",
    "To add item to the end of an existing list we use the method append()\n",
    "lst = list()\n",
    "lst.append(item)"
   ]
  },
  {
   "cell_type": "code",
   "execution_count": 35,
   "id": "d5e1fe22",
   "metadata": {},
   "outputs": [
    {
     "name": "stdout",
     "output_type": "stream",
     "text": [
      "['banana', 'orange', 'mango', 'lemon', 'apple']\n",
      "['banana', 'orange', 'mango', 'lemon', 'apple', 'lime']\n"
     ]
    }
   ],
   "source": [
    "# syntax\n",
    "fruits = ['banana', 'orange', 'mango', 'lemon']\n",
    "fruits.append('apple')\n",
    "print(fruits) # ['banana', 'orange', 'mango', 'lemon', 'apple']\n",
    "fruits.append('lime') # ['banana', 'orange', 'mango', 'lemon', 'apple', 'lime\n",
    "print(fruits)"
   ]
  },
  {
   "cell_type": "markdown",
   "id": "1e8877c5",
   "metadata": {},
   "source": [
    "# Inserting Items into a List\n",
    "We can use insert() method to insert a single item at a specified index in a list. Note that\n",
    "other items are shifted to the right. The insert() methods takes two arguments:index and\n",
    "an item to insert.\n",
    "# syntax\n",
    "lst = ['item1', 'item2']\n",
    "lst.insert(index, item)"
   ]
  },
  {
   "cell_type": "code",
   "execution_count": 66,
   "id": "7a2ab1ff",
   "metadata": {},
   "outputs": [
    {
     "name": "stdout",
     "output_type": "stream",
     "text": [
      "['banana', 'orange', 'apple', 'mango', 'lemon']\n",
      "['banana', 'orange', 'apple', 'lime', 'mango', 'lemon']\n"
     ]
    }
   ],
   "source": [
    "fruits = ['banana', 'orange', 'mango', 'lemon']\n",
    "fruits.insert(2, 'apple') # insert apple between orange and mango\n",
    "print(fruits) # ['banana', 'orange', 'apple', 'mango', 'lemon']\n",
    "fruits.insert(3, 'lime') # ['banana', 'orange', 'apple', 'lime', 'mango', 'le\n",
    "print(fruits)\n"
   ]
  },
  {
   "cell_type": "markdown",
   "id": "97679de9",
   "metadata": {},
   "source": [
    "# Removing Items from a List\n",
    "The remove method removes a specified item from a list\n",
    "# syntax\n",
    "lst = ['item1', 'item2']\n",
    "\n",
    "lst.remove(item)"
   ]
  },
  {
   "cell_type": "code",
   "execution_count": 37,
   "id": "8ebb85d2",
   "metadata": {},
   "outputs": [
    {
     "name": "stdout",
     "output_type": "stream",
     "text": [
      "['orange', 'mango', 'lemon', 'banana']\n",
      "['orange', 'mango', 'banana']\n"
     ]
    }
   ],
   "source": [
    "fruits = ['banana', 'orange', 'mango', 'lemon', 'banana']\n",
    "fruits.remove('banana')\n",
    "print(fruits) # ['orange', 'mango', 'lemon', 'banana'] - this method removes t\n",
    "fruits.remove('lemon')\n",
    "print(fruits) # ['orange', 'mango', 'banana']\n"
   ]
  },
  {
   "cell_type": "markdown",
   "id": "24863222",
   "metadata": {},
   "source": [
    "# Removing Items Using Pop\n",
    "The pop() method removes the specified index, (or the last item if index is not specified):\n",
    "# syntax\n",
    "lst = ['item1', 'item2']\n",
    "\n",
    "lst.pop() # last item\n",
    "\n",
    "lst.pop(index)"
   ]
  },
  {
   "cell_type": "code",
   "execution_count": 38,
   "id": "294397ed",
   "metadata": {},
   "outputs": [
    {
     "name": "stdout",
     "output_type": "stream",
     "text": [
      "['banana', 'orange', 'mango']\n",
      "['orange', 'mango']\n"
     ]
    }
   ],
   "source": [
    "fruits = ['banana', 'orange', 'mango', 'lemon']\n",
    "fruits.pop()\n",
    "print(fruits) # ['banana', 'orange', 'mango']\n",
    "fruits.pop(0)\n",
    "print(fruits) # ['orange', 'mango']"
   ]
  },
  {
   "cell_type": "markdown",
   "id": "65504a4c",
   "metadata": {},
   "source": [
    "# Removing Items Using Del\n",
    "The del keyword removes the specified index and it can also be used to delete items\n",
    "within index range. It can also delete the list completely\n",
    "# syntax\n",
    "lst = ['item1', 'item2']\n",
    "\n",
    "del lst[index] # only a single item\n",
    "\n",
    "del lst # to delete the list completely"
   ]
  },
  {
   "cell_type": "code",
   "execution_count": 39,
   "id": "9dd7cb17",
   "metadata": {},
   "outputs": [
    {
     "name": "stdout",
     "output_type": "stream",
     "text": [
      "['orange', 'mango', 'lemon', 'kiwi', 'lime']\n",
      "['orange', 'lemon', 'kiwi', 'lime']\n",
      "['orange', 'lime']\n"
     ]
    },
    {
     "ename": "NameError",
     "evalue": "name 'fruits' is not defined",
     "output_type": "error",
     "traceback": [
      "\u001b[1;31m---------------------------------------------------------------------------\u001b[0m",
      "\u001b[1;31mNameError\u001b[0m                                 Traceback (most recent call last)",
      "Input \u001b[1;32mIn [39]\u001b[0m, in \u001b[0;36m<cell line: 9>\u001b[1;34m()\u001b[0m\n\u001b[0;32m      7\u001b[0m \u001b[38;5;28mprint\u001b[39m(fruits) \u001b[38;5;66;03m# ['orange', 'lime']\u001b[39;00m\n\u001b[0;32m      8\u001b[0m \u001b[38;5;28;01mdel\u001b[39;00m fruits\n\u001b[1;32m----> 9\u001b[0m \u001b[38;5;28mprint\u001b[39m(\u001b[43mfruits\u001b[49m)\n",
      "\u001b[1;31mNameError\u001b[0m: name 'fruits' is not defined"
     ]
    }
   ],
   "source": [
    "fruits = ['banana', 'orange', 'mango', 'lemon', 'kiwi', 'lime']\n",
    "del fruits[0]\n",
    "print(fruits) # ['orange', 'mango', 'lemon', 'kiwi', 'lime']\n",
    "del fruits[1]\n",
    "print(fruits) # ['orange', 'lemon', 'kiwi', 'lime']\n",
    "del fruits[1:3] # this deletes items between given indexes, so it does not\n",
    "print(fruits) # ['orange', 'lime']\n",
    "del fruits\n",
    "print(fruits) # This should give: NameError: name 'fruits' is not defined"
   ]
  },
  {
   "cell_type": "markdown",
   "id": "2ab8a5d7",
   "metadata": {},
   "source": [
    "# Clearing List Items\n",
    "The clear() method empties the list:\n",
    "# syntax\n",
    "lst = ['item1', 'item2']\n",
    "\n",
    "lst.clear()\n"
   ]
  },
  {
   "cell_type": "code",
   "execution_count": 40,
   "id": "71b7c664",
   "metadata": {},
   "outputs": [
    {
     "name": "stdout",
     "output_type": "stream",
     "text": [
      "[]\n"
     ]
    }
   ],
   "source": [
    "fruits = ['banana', 'orange', 'mango', 'lemon']\n",
    "\n",
    "fruits.clear()\n",
    "\n",
    "print(fruits) # []"
   ]
  },
  {
   "cell_type": "markdown",
   "id": "d34b574b",
   "metadata": {},
   "source": [
    "# Copying a List\n",
    "It is possible to copy a list by reassigning it to a new variable in the following way: list2 =\n",
    "list1. Now, list2 is a reference of list1, any changes we make in list2 will also modify the\n",
    "original, list1. But there are lots of case in which we do not like to modify the original\n",
    "instead we like to have a different copy. One of way of avoiding the problem above is using\n",
    "copy().\n",
    "\n",
    "\n",
    "# syntax\n",
    "lst = ['item1', 'item2']\n",
    "\n",
    "lst_copy = lst.copy()"
   ]
  },
  {
   "cell_type": "code",
   "execution_count": 41,
   "id": "4c5ea304",
   "metadata": {},
   "outputs": [
    {
     "name": "stdout",
     "output_type": "stream",
     "text": [
      "['banana', 'orange', 'mango', 'lemon']\n"
     ]
    }
   ],
   "source": [
    "fruits = ['banana', 'orange', 'mango', 'lemon']\n",
    "fruits_copy = fruits.copy()\n",
    "print(fruits_copy) # ['banana', 'orange', 'mango', 'lemon']"
   ]
  },
  {
   "cell_type": "markdown",
   "id": "2a61f16f",
   "metadata": {},
   "source": [
    "# Joining Lists\n",
    "There are several ways to join, or concatenate, two or more lists in Python.\n",
    "Plus Operator (+)\n",
    "\n",
    "# syntax\n",
    "list3 = list1 + list2"
   ]
  },
  {
   "cell_type": "code",
   "execution_count": 42,
   "id": "a915d02b",
   "metadata": {},
   "outputs": [
    {
     "name": "stdout",
     "output_type": "stream",
     "text": [
      "[-5, -4, -3, -2, -1, 0, 1, 2, 3, 4, 5]\n",
      "['banana', 'orange', 'mango', 'lemon', 'Tomato', 'Potato', 'Cabbage', 'Onion', 'Carrot']\n"
     ]
    }
   ],
   "source": [
    "positive_numbers = [1, 2, 3, 4, 5]\n",
    "zero = [0]\n",
    "negative_numbers = [-5,-4,-3,-2,-1]\n",
    "integers = negative_numbers + zero + positive_numbers\n",
    "print(integers) # [-5, -4, -3, -2, -1, 0, 1, 2, 3, 4, 5]\n",
    "fruits = ['banana', 'orange', 'mango', 'lemon']\n",
    "vegetables = ['Tomato', 'Potato', 'Cabbage', 'Onion', 'Carrot']\n",
    "fruits_and_vegetables = fruits + vegetables\n",
    "print(fruits_and_vegetables ) # ['banana', 'orange', 'mango', 'lemon', 'Tomato"
   ]
  },
  {
   "cell_type": "markdown",
   "id": "3700a155",
   "metadata": {},
   "source": [
    "# Joining using extend() method \n",
    "The extend() method allows to append list in a list.\n",
    "See\n",
    "the example below.\n",
    "# syntax\n",
    "list1 = ['item1', 'item2']\n",
    "\n",
    "list2 = ['item3', 'item4', 'item5']\n",
    "\n",
    "list1.extend(list2)"
   ]
  },
  {
   "cell_type": "code",
   "execution_count": 43,
   "id": "5640bdea",
   "metadata": {},
   "outputs": [
    {
     "name": "stdout",
     "output_type": "stream",
     "text": [
      "Numbers: [0, 1, 2, 3, 4, 5, 6]\n",
      "Integers: [-5, -4, -3, -2, -1, 0, 1, 2, 3, 4, 5]\n",
      "Fruits and vegetables: ['banana', 'orange', 'mango', 'lemon', 'Tomato', 'Potato', 'Cabbage', 'Onion', 'Carrot']\n"
     ]
    }
   ],
   "source": [
    "num1 = [0, 1, 2, 3]\n",
    "num2= [4, 5, 6]\n",
    "num1.extend(num2)\n",
    "print('Numbers:', num1) # Numbers: [0, 1, 2, 3, 4, 5, 6]\n",
    "negative_numbers = [-5,-4,-3,-2,-1]\n",
    "positive_numbers = [1, 2, 3,4,5]\n",
    "zero = [0]\n",
    "negative_numbers.extend(zero)\n",
    "negative_numbers.extend(positive_numbers)\n",
    "print('Integers:', negative_numbers) # Integers: [-5, -4, -3, -2, -1, 0, 1, 2,\n",
    "fruits = ['banana', 'orange', 'mango', 'lemon']\n",
    "vegetables = ['Tomato', 'Potato', 'Cabbage', 'Onion', 'Carrot']\n",
    "fruits.extend(vegetables)\n",
    "print('Fruits and vegetables:', fruits ) # Fruits and vegetables: ['banana', 'o"
   ]
  },
  {
   "cell_type": "markdown",
   "id": "89f1789f",
   "metadata": {},
   "source": [
    "# Counting Items in a List\n",
    "The count() method returns the number of times an item appears in a list:\n",
    "# syntax\n",
    "lst = ['item1', 'item2']\n",
    "\n",
    "lst.count(item)\n"
   ]
  },
  {
   "cell_type": "code",
   "execution_count": 44,
   "id": "9d2c1225",
   "metadata": {},
   "outputs": [
    {
     "name": "stdout",
     "output_type": "stream",
     "text": [
      "1\n",
      "3\n"
     ]
    }
   ],
   "source": [
    "fruits = ['banana', 'orange', 'mango', 'lemon']\n",
    "print(fruits.count('orange')) # 1\n",
    "ages = [22, 19, 24, 25, 26, 24, 25, 24]\n",
    "print(ages.count(24)) "
   ]
  },
  {
   "cell_type": "markdown",
   "id": "8aefb814",
   "metadata": {},
   "source": [
    "# Finding Index of an Item\n",
    "The index() method returns the index of an item in the list:\n",
    "    \n",
    "    # syntax\n",
    "lst = ['item1', 'item2']\n",
    "\n",
    "lst.index(item)\n"
   ]
  },
  {
   "cell_type": "code",
   "execution_count": 49,
   "id": "30ab4cd0",
   "metadata": {},
   "outputs": [
    {
     "name": "stdout",
     "output_type": "stream",
     "text": [
      "1\n",
      "3\n",
      "2\n"
     ]
    }
   ],
   "source": [
    "fruits = ['banana', 'orange', 'mango', 'lemon']\n",
    "print(fruits.index('orange')) # 1\n",
    "print(fruits.index('lemon'))\n",
    "ages = [22, 19, 24, 25, 26, 24, 25, 24]\n",
    "print(ages.index(24)) "
   ]
  },
  {
   "cell_type": "markdown",
   "id": "cdac0b55",
   "metadata": {},
   "source": [
    "# Reversing a List\n",
    "The reverse() method reverses the order of a list.\n",
    "# syntax\n",
    "lst = ['item1', 'item2']\n",
    "\n",
    "lst.reverse()\n"
   ]
  },
  {
   "cell_type": "code",
   "execution_count": 61,
   "id": "a944ce36",
   "metadata": {},
   "outputs": [
    {
     "name": "stdout",
     "output_type": "stream",
     "text": [
      "['lemon', 'mango', 'orange', 'banana']\n",
      "[24, 25, 24, 26, 25, 24, 19, 22]\n"
     ]
    }
   ],
   "source": [
    "fruits = ['banana', 'orange', 'mango', 'lemon']\n",
    "fruits.reverse()\n",
    "print(fruits) # ['lemon', 'mango', 'orange', 'banana']\n",
    "ages = [22, 19, 24, 25, 26, 24, 25, 24]\n",
    "ages.reverse()\n",
    "print(ages) # [24, 25, 24, 26, 25, 24, 19, 22]"
   ]
  },
  {
   "cell_type": "markdown",
   "id": "ccc317c7",
   "metadata": {},
   "source": [
    "# Sorting List Items\n",
    "To sort lists we can use sort() method or sorted() built-in functions. The sort() method\n",
    "reorders the list items in ascending order and modifies the original list. If an argument of\n",
    "sort() method reverse is equal to true, it will arrange the list in descending order.\n",
    "sort(): this method modifies the original list\n",
    "# syntax\n",
    "lst = ['item1', 'item2']\n",
    "\n",
    "lst.sort() # ascending\n",
    "\n",
    "lst.sort(reverse=True) # descending"
   ]
  },
  {
   "cell_type": "code",
   "execution_count": 63,
   "id": "84d5a7d8",
   "metadata": {
    "scrolled": true
   },
   "outputs": [
    {
     "name": "stdout",
     "output_type": "stream",
     "text": [
      "['banana', 'lemon', 'mango', 'orange']\n",
      "['orange', 'mango', 'lemon', 'banana']\n",
      "[19, 22, 24, 24, 24, 25, 25, 26]\n",
      "[26, 25, 25, 24, 24, 24, 22, 19]\n"
     ]
    }
   ],
   "source": [
    "fruits = ['banana', 'orange', 'mango', 'lemon']\n",
    "fruits.sort()\n",
    "print(fruits) # sorted in alphabetical order, ['banana', 'lemon\n",
    "fruits.sort(reverse=True)\n",
    "print(fruits) # ['orange', 'mango', 'lemon', 'banana']\n",
    "ages = [22, 19, 24, 25, 26, 24, 25, 24]\n",
    "ages.sort()\n",
    "print(ages) # [19, 22, 24, 24, 24, 25, 25, 26]\n",
    "ages.sort(reverse=True)\n",
    "print(ages) # [26, 25, 25, 24, 24, 24, 22, 19]"
   ]
  },
  {
   "cell_type": "raw",
   "id": "101d6ea5",
   "metadata": {},
   "source": [
    "sorted(): returns the ordered list without modifying the original list Example:\n"
   ]
  },
  {
   "cell_type": "code",
   "execution_count": 65,
   "id": "67942e54",
   "metadata": {},
   "outputs": [
    {
     "name": "stdout",
     "output_type": "stream",
     "text": [
      "['banana', 'lemon', 'mango', 'orange']\n",
      "['orange', 'mango', 'lemon', 'banana']\n"
     ]
    }
   ],
   "source": [
    "fruits = ['banana', 'orange', 'mango', 'lemon']\n",
    "print(sorted(fruits)) # ['banana', 'lemon', 'mango', 'orange']\n",
    "# Reverse order\n",
    "fruits = ['banana', 'orange', 'mango', 'lemon']\n",
    "fruits = sorted(fruits,reverse=True)\n",
    "print(fruits) # ['orange', 'mango', 'lemon', 'banana']"
   ]
  },
  {
   "cell_type": "code",
   "execution_count": null,
   "id": "a7a0ac5f",
   "metadata": {},
   "outputs": [],
   "source": []
  }
 ],
 "metadata": {
  "kernelspec": {
   "display_name": "Python 3 (ipykernel)",
   "language": "python",
   "name": "python3"
  },
  "language_info": {
   "codemirror_mode": {
    "name": "ipython",
    "version": 3
   },
   "file_extension": ".py",
   "mimetype": "text/x-python",
   "name": "python",
   "nbconvert_exporter": "python",
   "pygments_lexer": "ipython3",
   "version": "3.9.12"
  }
 },
 "nbformat": 4,
 "nbformat_minor": 5
}
