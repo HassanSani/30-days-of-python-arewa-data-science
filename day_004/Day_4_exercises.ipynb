{
 "cells": [
  {
   "cell_type": "code",
   "execution_count": 6,
   "id": "5b3c0e41",
   "metadata": {},
   "outputs": [
    {
     "name": "stdout",
     "output_type": "stream",
     "text": [
      "Thirty Days Of Python\n"
     ]
    }
   ],
   "source": [
    "#Question 1.\n",
    "#Concatenate the string 'Thirty', 'Days', 'Of', 'Python' to a single string, 'Thirty Days Of\n",
    "# Python'.\n",
    "new_sring=['Thirty', 'Days', 'Of', 'Python']\n",
    "result=' '.join(new_sring)\n",
    "print(result)"
   ]
  },
  {
   "cell_type": "code",
   "execution_count": 8,
   "id": "a82c7946",
   "metadata": {},
   "outputs": [
    {
     "name": "stdout",
     "output_type": "stream",
     "text": [
      "Coding For All\n"
     ]
    }
   ],
   "source": [
    "#Q 2. Concatenate the string 'Coding', 'For' , 'All' to a single string, 'Coding For All'.\n",
    "new_sring=['Coding', 'For' , 'All']\n",
    "result=' '.join(new_sring)\n",
    "print(result)"
   ]
  },
  {
   "cell_type": "code",
   "execution_count": 15,
   "id": "90b8c541",
   "metadata": {},
   "outputs": [
    {
     "name": "stdout",
     "output_type": "stream",
     "text": [
      "Coding For All\n",
      "14\n",
      "CODING FOR ALL\n",
      "coding for all\n",
      "Coding for all\n"
     ]
    }
   ],
   "source": [
    "#Q3-8. Declare a variable named company and assign it to an initial value \"Coding For All\".\n",
    "company=\"Coding For All\"\n",
    "print(company)\n",
    "print(len(company))\n",
    "#  Change all the characters to uppercase letters using upper() method and lower case using lower() method.\n",
    "print(company.upper()) # CODING FOR ALL\n",
    "print(company.lower()) # coding for all\n"
   ]
  },
  {
   "cell_type": "markdown",
   "id": "5843f195",
   "metadata": {},
   "source": [
    "#Q9. Use capitalize(), title(), swapcase() methods to format the value of the string Coding\n",
    "#For All.\n"
   ]
  },
  {
   "cell_type": "code",
   "execution_count": 18,
   "id": "98424c2b",
   "metadata": {},
   "outputs": [
    {
     "name": "stdout",
     "output_type": "stream",
     "text": [
      "Coding for all\n",
      "Coding For All\n",
      "cODING fOR aLL\n"
     ]
    }
   ],
   "source": [
    "# Q8. Use capitalize(), title(), swapcase() methods to format the value of the string Coding\n",
    "#For All.\n",
    "print(company.capitalize())\n",
    "print(company.title())\n",
    "print(company.swapcase())"
   ]
  },
  {
   "cell_type": "code",
   "execution_count": 28,
   "id": "98e0192e",
   "metadata": {},
   "outputs": [
    {
     "name": "stdout",
     "output_type": "stream",
     "text": [
      " For All\n",
      "0\n",
      "0\n",
      "Python For All\n"
     ]
    }
   ],
   "source": [
    "#Q9. Cut(slice) out the first word of Coding For All string.\n",
    "company=\"Coding For All\"\n",
    "first_word_sliced=company[6:14]\n",
    "print(first_word_sliced)\n",
    "\n",
    "#Q10. Check if Coding For All string contains a word Coding using the method index, find or other methods.\n",
    "print(company.find('Coding')) \n",
    "print(company.index('Coding')) \n",
    "\n",
    "# Q 11. Replace the word coding in the string 'Coding For All' to Python.\n",
    "print(company.replace('Coding', 'Python')) "
   ]
  },
  {
   "cell_type": "code",
   "execution_count": 39,
   "id": "bfca957d",
   "metadata": {},
   "outputs": [
    {
     "name": "stdout",
     "output_type": "stream",
     "text": [
      "Python for All\n",
      "['Python', 'for', 'Everyone']\n",
      "['Facebook', ' Google', ' Microsoft', ' Apple', ' IBM', ' Oracle', ' Amazon']\n"
     ]
    }
   ],
   "source": [
    "# 12. Change Python for Everyone to Python for All using the replace method or other methods.\n",
    "companion='Python for Everyone'\n",
    "print(companion.replace('Everyone', 'All'))\n",
    "# 13. Split the string 'Coding For All' using space as the separator (split()) .\n",
    "print(companion.split())\n",
    "# 14. \"Facebook, Google, Microsoft, Apple, IBM, Oracle, Amazon\" split the string at the comma.\n",
    "social_media= \"Facebook, Google, Microsoft, Apple, IBM, Oracle, Amazon\" \n",
    "print(social_media.split(','))\n"
   ]
  },
  {
   "cell_type": "code",
   "execution_count": 54,
   "id": "d0e82aa1",
   "metadata": {
    "scrolled": true
   },
   "outputs": [
    {
     "name": "stdout",
     "output_type": "stream",
     "text": [
      "P\n",
      "13\n",
      " \n"
     ]
    }
   ],
   "source": [
    "#Q15 What is the character at index 0 in the string Coding For All.\n",
    "companion='Python for All'\n",
    "index_0=companion [0]\n",
    "print(index_0)\n",
    "\n",
    "#Q16. What is the last index of the string Coding For All.\\\n",
    "last_index=len(companion)-1\n",
    "print(last_index)\n",
    "#Q17. What character is at index 10 in \"Coding For All\" string.\n",
    "index_10=companion[10]\n",
    "print(index_10) # a ' '"
   ]
  },
  {
   "cell_type": "code",
   "execution_count": 60,
   "id": "b10110fc",
   "metadata": {
    "scrolled": true
   },
   "outputs": [
    {
     "name": "stdout",
     "output_type": "stream",
     "text": [
      "PFE\n"
     ]
    }
   ],
   "source": [
    "#Q18 Create an acronym or an abbreviation for the name 'Python For Everyone'.\n",
    "company='Python For Everyone'\n",
    "abbreviation=company.replace('Python For Everyone','PFE')\n",
    "print(abbreviation)"
   ]
  },
  {
   "cell_type": "code",
   "execution_count": 61,
   "id": "31353cb7",
   "metadata": {
    "scrolled": true
   },
   "outputs": [
    {
     "name": "stdout",
     "output_type": "stream",
     "text": [
      "PFA\n"
     ]
    }
   ],
   "source": [
    "#Q19. Create an acronym or an abbreviation for the name 'Coding For All'.\n",
    "companion='Python For All'\n",
    "abbreviation=companion.replace('Python For All','PFA')\n",
    "print(abbreviation)"
   ]
  },
  {
   "cell_type": "code",
   "execution_count": 65,
   "id": "0e9aedbf",
   "metadata": {},
   "outputs": [
    {
     "name": "stdout",
     "output_type": "stream",
     "text": [
      "0\n",
      "7\n",
      "0\n"
     ]
    }
   ],
   "source": [
    "# 20. Use index to determine the position of the first occurrence of C in Coding For All.\n",
    "company='Coding For All'\n",
    "print(company.find('C'))\n",
    "# 21. Use index to determine the position of the first occurrence of F in Coding For All\n",
    "print(company.find('F'))\n",
    "#print(company.find('C'))\n",
    "print(company.rfind('C'))"
   ]
  },
  {
   "cell_type": "code",
   "execution_count": 93,
   "id": "51370fe2",
   "metadata": {},
   "outputs": [
    {
     "name": "stdout",
     "output_type": "stream",
     "text": [
      "31\n",
      "47\n",
      "47\n",
      "You cannot end a sentence with  is a conjunction\n",
      "You cannot end a sentence with is a conjunction\n"
     ]
    }
   ],
   "source": [
    "#23. Use index or find to find the position of the first occurrence of the word 'because' in \n",
    "#the following sentence: 'You cannot end a sentence with because because because is a conjunction'\n",
    "\n",
    "sentence='You cannot end a sentence with because because because is a conjunction'\n",
    "print(sentence.find('because'))\n",
    "\n",
    "#24. Use rindex to find the position of the last occurrence of the word because in the\n",
    "#following sentence: 'You cannot end a sentence with because because because is a conjunction'\n",
    "print(sentence.rindex('because'))\n",
    "print(sentence.rfind('because'))\n",
    "\n",
    "# Slice out the phrase 'because because because'\n",
    "print(sentence.replace('because because because','')) \n",
    "a=(sentence[0:31])\n",
    "b=(sentence[-16:])\n",
    "print(a+b)"
   ]
  },
  {
   "cell_type": "code",
   "execution_count": 95,
   "id": "5ee6e937",
   "metadata": {},
   "outputs": [
    {
     "name": "stdout",
     "output_type": "stream",
     "text": [
      "True\n",
      "False\n"
     ]
    }
   ],
   "source": [
    "#Q28. Does ''Coding For All' start with a substring Coding?\n",
    "coding='Coding For All'\n",
    "print(coding.startswith('Coding'))\n",
    "#29. Does 'Coding For All' end with a substring coding?\n",
    "print(coding.endswith('Coding'))"
   ]
  },
  {
   "cell_type": "code",
   "execution_count": 98,
   "id": "5a3f84a7",
   "metadata": {},
   "outputs": [
    {
     "name": "stdout",
     "output_type": "stream",
     "text": [
      "Coding For All\n"
     ]
    }
   ],
   "source": [
    "# remove spaces' Coding For All '\n",
    "print(coding.strip(' '))"
   ]
  },
  {
   "cell_type": "code",
   "execution_count": 104,
   "id": "aa5e695a",
   "metadata": {},
   "outputs": [
    {
     "name": "stdout",
     "output_type": "stream",
     "text": [
      "False\n",
      "True\n"
     ]
    }
   ],
   "source": [
    "#Q31 Which one of the following variables return True when we use the method isidentifier():\n",
    "#30DaysOfPython\n",
    "coding='30DaysOfPython'\n",
    "print(coding.isidentifier())\n",
    "#thirty_days_of_python='30DaysOfPython'\n",
    "codings='thirty_days_of_python'\n",
    "print(codings.isidentifier())"
   ]
  },
  {
   "cell_type": "code",
   "execution_count": 107,
   "id": "406ff881",
   "metadata": {},
   "outputs": [
    {
     "name": "stdout",
     "output_type": "stream",
     "text": [
      "Django# Flask# Bottle# Pyramid# Falcon\n"
     ]
    }
   ],
   "source": [
    "# Q32. The following list contains the names of some of python libraries: ['Django', 'Flask',\n",
    "#'Bottle', 'Pyramid', 'Falcon']. Join the list with a hash with space string.\n",
    "libraries= ['Django', 'Flask','Bottle', 'Pyramid', 'Falcon']\n",
    "result = '# '.join(libraries)\n",
    "print(result)"
   ]
  },
  {
   "cell_type": "code",
   "execution_count": 110,
   "id": "4395bcc2",
   "metadata": {},
   "outputs": [
    {
     "name": "stdout",
     "output_type": "stream",
     "text": [
      "I am enjoying this challenge. \n",
      "I just wonder what is next.\n"
     ]
    }
   ],
   "source": [
    "#  Use the new line escape sequence to separate the following sentences\n",
    "#I am enjoying this challenge.\n",
    "#I just wonder what is next.\n",
    "\n",
    "print('I am enjoying this challenge. \\nI just wonder what is next.')"
   ]
  },
  {
   "cell_type": "code",
   "execution_count": 114,
   "id": "8fefb9b1",
   "metadata": {},
   "outputs": [
    {
     "name": "stdout",
     "output_type": "stream",
     "text": [
      "Name\t\tAge\tCountry \tCity\n",
      "Asabeneh \t250 \tFinland \tHelsinki\n"
     ]
    }
   ],
   "source": [
    "#Name Age Country City\n",
    "#Asabeneh 250 Finland Helsinki\n",
    "print('Name\\t\\tAge\\tCountry \\tCity\\nAsabeneh \\t250 \\tFinland \\tHelsinki')"
   ]
  },
  {
   "cell_type": "code",
   "execution_count": 128,
   "id": "e6b6937d",
   "metadata": {},
   "outputs": [
    {
     "name": "stdout",
     "output_type": "stream",
     "text": [
      "The area of a circle with 10 is 314.0 meters square\n"
     ]
    }
   ],
   "source": [
    "# . Use the string formatting method to display the following:\n",
    "radius = 10\n",
    "area = 3.14 * radius ** 2\n",
    "#The area of a circle with radius 10 is 314 meters square.\n",
    "formated_string='The area of a circle with {} is {}'.format(radius, area) +' '+ 'meters square'\n",
    "print(formated_string)"
   ]
  },
  {
   "cell_type": "code",
   "execution_count": 134,
   "id": "c24026f1",
   "metadata": {},
   "outputs": [
    {
     "name": "stdout",
     "output_type": "stream",
     "text": [
      "8+6=14\n",
      "8-6=2\n",
      "8*6=48\n",
      "8/6=1.33\n",
      "8%6=2\n",
      "8//6=1\n",
      "8**6=262144\n"
     ]
    }
   ],
   "source": [
    "#8 + 6 = 14\n",
    "#8 - 6 = 2\n",
    "#8 * 6 = 48\n",
    "#8 / 6 = 1.33\n",
    "#8 % 6 = 2\n",
    "#8 // 6 = 1\n",
    "#8 ** 6 = 262144\n",
    "a=8\n",
    "b=6\n",
    "print('{}+{}={}'.format(a,b, a+b))\n",
    "print('{}-{}={}'.format(a,b, a-b))\n",
    "print('{}*{}={}'.format(a,b, a*b))\n",
    "print('{}/{}={:.2f}'.format(a,b, a/b))\n",
    "print('{}%{}={}'.format(a,b, a%b))\n",
    "print('{}//{}={}'.format(a,b, a//b))\n",
    "print('{}**{}={}'.format(a,b, a**b))"
   ]
  },
  {
   "cell_type": "code",
   "execution_count": null,
   "id": "cb702dc0",
   "metadata": {},
   "outputs": [],
   "source": []
  }
 ],
 "metadata": {
  "kernelspec": {
   "display_name": "Python 3 (ipykernel)",
   "language": "python",
   "name": "python3"
  },
  "language_info": {
   "codemirror_mode": {
    "name": "ipython",
    "version": 3
   },
   "file_extension": ".py",
   "mimetype": "text/x-python",
   "name": "python",
   "nbconvert_exporter": "python",
   "pygments_lexer": "ipython3",
   "version": "3.9.12"
  }
 },
 "nbformat": 4,
 "nbformat_minor": 5
}
