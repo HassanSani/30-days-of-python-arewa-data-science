{
 "cells": [
  {
   "cell_type": "code",
   "execution_count": 1,
   "id": "b9ff7920",
   "metadata": {},
   "outputs": [
    {
     "name": "stdout",
     "output_type": "stream",
     "text": [
      "P\n",
      "1\n",
      "Hello, World!\n",
      "13\n",
      "I hope you are enjoying 30 days of Python Challenge\n"
     ]
    }
   ],
   "source": [
    "# Creating a string\n",
    "letter = 'P' # A string could be a single character or a bunch o\n",
    "print(letter) # P\n",
    "print(len(letter)) # 1\n",
    "greeting = 'Hello, World!' # String could be made using a single or double quo\n",
    "print(greeting) # Hello, World!\n",
    "print(len(greeting)) # 13\n",
    "sentence = \"I hope you are enjoying 30 days of Python Challenge\"\n",
    "print(sentence)"
   ]
  },
  {
   "cell_type": "code",
   "execution_count": 4,
   "id": "0478a5a4",
   "metadata": {},
   "outputs": [
    {
     "name": "stdout",
     "output_type": "stream",
     "text": [
      "I am a teacher and enjoy teaching.\n",
      "I didn't find anything as rewarding as empowering people.\n",
      "That is why I created 30 days of python.\n",
      "I am a teacher and enjoy teaching.\n",
      "I didn't find anything as rewarding as empowering people.\n",
      "That is why I created 30 days of python.\n"
     ]
    }
   ],
   "source": [
    "# Multiline string is created by using triple single (''') or triple double quotes (\"\"\"). See the\n",
    "#example below.\n",
    "multiline_string = '''I am a teacher and enjoy teaching.\n",
    "I didn't find anything as rewarding as empowering people.\n",
    "That is why I created 30 days of python.'''\n",
    "print(multiline_string)\n",
    "# Another way of doing the same thing\n",
    "\n",
    "\n",
    "multiline_string = \"\"\"I am a teacher and enjoy teaching.\n",
    "I didn't find anything as rewarding as empowering people.\n",
    "That is why I created 30 days of python.\"\"\"\n",
    "print(multiline_string)"
   ]
  },
  {
   "cell_type": "code",
   "execution_count": null,
   "id": "e5518e06",
   "metadata": {},
   "outputs": [],
   "source": [
    "# Another way of doing the same thing\n",
    "multiline_string = \"\"\"I am a teacher and enjoy teaching.\n",
    "I didn't find anything as rewarding as empowering people.\n",
    "That is why I created 30 days of python.\"\"\"\n",
    "print(multiline_string)"
   ]
  },
  {
   "cell_type": "code",
   "execution_count": 7,
   "id": "0661ee8a",
   "metadata": {},
   "outputs": [
    {
     "name": "stdout",
     "output_type": "stream",
     "text": [
      "Asabeneh Yetayeh\n",
      "8\n",
      "7\n",
      "True\n",
      "16\n",
      "15\n",
      "1.1428571428571428\n"
     ]
    }
   ],
   "source": [
    "# string concatenation\n",
    "first_name = 'Asabeneh'\n",
    "last_name = 'Yetayeh'\n",
    "space = ' '\n",
    "full_name = first_name + space + last_name\n",
    "print(full_name) # Asabeneh Yetayeh\n",
    "# Checking the length of a string using len() built-in function\n",
    "print(len(first_name)) # 8\n",
    "print(len(last_name)) # 7\n",
    "print(len(first_name) > len(last_name)) # True\n",
    "print(len(full_name)) # 16\n",
    "# sum the lengths of 2 strings\n",
    "print(len(first_name) + len(last_name))\n",
    "# divide the lengths of a string by another\n",
    "print(len(first_name) / len(last_name))\n"
   ]
  },
  {
   "cell_type": "code",
   "execution_count": 10,
   "id": "0dc79778",
   "metadata": {},
   "outputs": [],
   "source": [
    "# Escape Sequences in Strings\n",
    "# In Python and other programming languages \\ followed by a character is an escape\n",
    "# sequence. Let us see the most common escape characters:\n",
    "#\\n: new line\n",
    "#\\t: Tab means(8 spaces)\n",
    "#\\\\: Back slash\n",
    "#\\': Single quote (')\n",
    "#\\\": Double quote (\")\n"
   ]
  },
  {
   "cell_type": "code",
   "execution_count": 3,
   "id": "e0ec42e3",
   "metadata": {},
   "outputs": [
    {
     "name": "stdout",
     "output_type": "stream",
     "text": [
      "I hope everyone is enjoying the Python Challenge.\n",
      "Are you ?\n",
      "Days\tTopics\tExercises\n",
      "Day 1\t3\t5\n",
      "Day 2\t3\t5\n",
      "Day 3\t3\t5\n",
      "Day 4\t3\t5\n",
      "This is a backslash symbol (\\)\n",
      "In every programming language it starts with \"Hello, World!\"\n",
      "In every programming language it starts with \"Hello, World!\"\n"
     ]
    }
   ],
   "source": [
    "print('I hope everyone is enjoying the Python Challenge.\\nAre you ?') # line br\n",
    "print('Days\\tTopics\\tExercises') # adding tab space or 4 spaces\n",
    "print('Day 1\\t3\\t5')\n",
    "print('Day 2\\t3\\t5')\n",
    "print('Day 3\\t3\\t5')\n",
    "print('Day 4\\t3\\t5')\n",
    "print('This is a backslash symbol (\\\\)') # To write a backslash\n",
    "print('In every programming language it starts with \\\"Hello, World!\\\"') # to w\n",
    "print('In every programming language it starts with \"Hello, World!\"') # to w"
   ]
  },
  {
   "cell_type": "code",
   "execution_count": 4,
   "id": "2c9146bc",
   "metadata": {},
   "outputs": [
    {
     "name": "stdout",
     "output_type": "stream",
     "text": [
      "I am Asabeneh Yetayeh. I teach Python\n"
     ]
    }
   ],
   "source": [
    "#Old Style String Formatting (% Operator)\n",
    "#In Python there are many ways of formatting strings. In this section, we will cover some of\n",
    "#them. The \"%\" operator is used to format a set of variables enclosed in a \"tuple\" (a fixed\n",
    "#size list), together with a format string, which contains normal text together with\n",
    "#\"argument specifiers\", special symbols like \"%s\", \"%d\", \"%f\", \"%.number of digitsf\".\n",
    "#%s - String (or any object with a string representation, like numbers)\n",
    "#%d - Integers\n",
    "#\"%.number of digitsf\" - Floating point numbers with fixed precision\n",
    "#New Style String Formatting (str.format)\n",
    "#This formatting is introduced in Python version 3.\n",
    "# Strings only\n",
    "first_name = 'Asabeneh'\n",
    "last_name = 'Yetayeh'\n",
    "language = 'Python'\n",
    "formated_string = 'I am %s %s. I teach %s' %(first_name, last_name, language)\n",
    "print(formated_string)"
   ]
  },
  {
   "cell_type": "code",
   "execution_count": 7,
   "id": "f95a4022",
   "metadata": {},
   "outputs": [
    {
     "name": "stdout",
     "output_type": "stream",
     "text": [
      "I am Hassan Sani. I teach snakes\n"
     ]
    }
   ],
   "source": [
    "first_name='Hassan'\n",
    "last_name='Sani'\n",
    "language='snake'\n",
    "formated_string='I am %s %s. I teach %ss' %(first_name, last_name, language)\n",
    "print(formated_string)"
   ]
  },
  {
   "cell_type": "code",
   "execution_count": 9,
   "id": "135d41db",
   "metadata": {},
   "outputs": [
    {
     "name": "stdout",
     "output_type": "stream",
     "text": [
      "The area of circle with a radius 10 is 314.00.\n",
      "The following are python libraries:['Django', 'Flask', 'NumPy', 'Matplotlib', 'Pandas']\n"
     ]
    }
   ],
   "source": [
    "# Strings and numbers\n",
    "radius = 10\n",
    "pi = 3.14\n",
    "area = pi * radius ** 2\n",
    "formated_string = 'The area of circle with a radius %d is %.2f.' %(radius, area)\n",
    "print(formated_string)\n",
    "python_libraries = ['Django', 'Flask', 'NumPy', 'Matplotlib','Pandas']\n",
    "formated_string = 'The following are python libraries:%s' % (python_libraries)\n",
    "print(formated_string) # \"The following are python libraries:['Django', 'Flask"
   ]
  },
  {
   "cell_type": "code",
   "execution_count": 11,
   "id": "4a46cdd1",
   "metadata": {},
   "outputs": [
    {
     "name": "stdout",
     "output_type": "stream",
     "text": [
      "I am Hassan Sani I teach snake\n"
     ]
    }
   ],
   "source": [
    "#New Style String Formatting (str.format)\n",
    "#This formatting is introduced in Python version 3.\n",
    "first_name='Hassan'\n",
    "last_name='Sani'\n",
    "language='snake'\n",
    "formated_string='I am {} {} I teach {}'.format(first_name, last_name, language)\n",
    "print(formated_string)"
   ]
  },
  {
   "cell_type": "code",
   "execution_count": 18,
   "id": "d8924738",
   "metadata": {},
   "outputs": [
    {
     "name": "stdout",
     "output_type": "stream",
     "text": [
      "4 + 3 = 7\n",
      "4 - 3 = 1\n",
      "4 * 3 = 12\n",
      "4 / 3 = 1.33\n",
      "4 % 3 = 1\n",
      "4 // 3 = 1\n",
      "4 ** 3 = 64\n"
     ]
    }
   ],
   "source": [
    "a = 4\n",
    "b = 3\n",
    "print('{} + {} = {}'.format(a, b, a + b))\n",
    "print('{} - {} = {}'.format(a, b, a - b))\n",
    "print('{} * {} = {}'.format(a, b, a * b))\n",
    "print('{} / {} = {:.2f}'.format(a, b, a / b)) # limits it to two digits after d\n",
    "print('{} % {} = {}'.format(a, b, a % b))\n",
    "print('{} // {} = {}'.format(a, b, a // b))\n",
    "print('{} ** {} = {}'.format(a, b, a ** b))"
   ]
  },
  {
   "cell_type": "code",
   "execution_count": 25,
   "id": "3fbf1b1d",
   "metadata": {},
   "outputs": [
    {
     "name": "stdout",
     "output_type": "stream",
     "text": [
      "The area of a circle with a radius 10 is 3.14.\n"
     ]
    }
   ],
   "source": [
    "# Strings and numbers\n",
    "radius = 10\n",
    "pi = 3.14\n",
    "area = pi * radius ** 2\n",
    "formated_string = 'The area of a circle with a radius {} is {:.2f}.'.format(radius, pi, pi*radius)\n",
    "print(formated_string)"
   ]
  },
  {
   "cell_type": "code",
   "execution_count": 36,
   "id": "0e1c952f",
   "metadata": {},
   "outputs": [
    {
     "name": "stdout",
     "output_type": "stream",
     "text": [
      "4+3=7\n",
      "4-3=1\n",
      "4*3=12\n",
      "4/3=1.33\n",
      "4+3=7\n",
      "4//3=1\n",
      "4%3=1\n",
      "4**3=64\n"
     ]
    }
   ],
   "source": [
    "#String Interpolation / f-Strings (Python 3.6+)\n",
    "#Another new string formatting is string interpolation, f-strings. Strings start with f and we\n",
    "#can inject the data in their corresponding positions.\n",
    "a = 4\n",
    "b = 3\n",
    "print(f'{a}+{b}={a+b}')\n",
    "print(f'{a}-{b}={a-b}')\n",
    "print(f'{a}*{b}={a*b}')\n",
    "print(f'{a}/{b}={a/b:.2f}') # to 2 decimal place\n",
    "print(f'{a}+{b}={a+b}')\n",
    "print(f'{a}//{b}={a//b}')\n",
    "print(f'{a}%{b}={a%b}')\n",
    "print(f'{a}**{b}={a**b}')"
   ]
  },
  {
   "cell_type": "code",
   "execution_count": null,
   "id": "c8255ab2",
   "metadata": {},
   "outputs": [],
   "source": [
    "#Python Strings as Sequences of Characters\n",
    "#Python strings are sequences of characters, and share their basic methods of access with\n",
    "#other Python ordered sequences of objects – lists and tuples. The simplest way of\n",
    "#extracting single characters from strings (and individual members from any sequence) is to\n",
    "#unpack them into corresponding variables."
   ]
  },
  {
   "cell_type": "code",
   "execution_count": 38,
   "id": "26987dd2",
   "metadata": {},
   "outputs": [
    {
     "name": "stdout",
     "output_type": "stream",
     "text": [
      "P\n",
      "y\n",
      "t\n",
      "h\n",
      "o\n",
      "n\n"
     ]
    }
   ],
   "source": [
    "#Unpacking characters\n",
    "language='Python'\n",
    "a,b,c,d,e,f = language # unpacking sequence characters into variables\n",
    "print(a) # P\n",
    "print(b) # y\n",
    "print(c) # t\n",
    "print(d) # h\n",
    "print(e) # o\n",
    "print(f) # n"
   ]
  },
  {
   "cell_type": "code",
   "execution_count": 58,
   "id": "04aabdba",
   "metadata": {},
   "outputs": [
    {
     "name": "stdout",
     "output_type": "stream",
     "text": [
      "P\n",
      "y\n",
      "n\n"
     ]
    }
   ],
   "source": [
    "#Accessing Characters in Strings by Index\n",
    "#In programming counting starts from zero. Therefore the first letter of a string is at zero\n",
    "#index and the last letter of a string is the length of a string minus one.\n",
    "language = 'Python'\n",
    "first_letter = language[0]\n",
    "print(first_letter) # P\n",
    "second_letter = language[1]\n",
    "print(second_letter) # y\n",
    "last_index = len(language) - 1\n",
    "last_letter = language[last_index]\n",
    "print(last_letter) # n"
   ]
  },
  {
   "cell_type": "code",
   "execution_count": 59,
   "id": "ddb76ba5",
   "metadata": {},
   "outputs": [
    {
     "name": "stdout",
     "output_type": "stream",
     "text": [
      "n\n",
      "o\n"
     ]
    }
   ],
   "source": [
    "#If we want to start from right end we can use negative indexing. -1 is the last index.\n",
    "language = 'Python'\n",
    "last_letter = language[-1]\n",
    "print(last_letter) # n\n",
    "second_last = language[-2]\n",
    "print(second_last) # o"
   ]
  },
  {
   "cell_type": "code",
   "execution_count": 68,
   "id": "0b9e2287",
   "metadata": {},
   "outputs": [
    {
     "name": "stdout",
     "output_type": "stream",
     "text": [
      "Pyt\n",
      "hon\n",
      "hon\n",
      "hon\n"
     ]
    }
   ],
   "source": [
    "# Slicing Python Strings\n",
    "# In python we can slice strings into substrings.\n",
    "language = 'Python'\n",
    "first_three = language[0:3] # starts at zero index and up to 3 but not include\n",
    "print(first_three) #Pyt\n",
    "last_three = language[3:6]\n",
    "print(last_three) # hon\n",
    "# Another way\n",
    "last_three = language[-3:]\n",
    "print(last_three) # hon\n",
    "last_three = language[3:]\n",
    "print(last_three) # hon"
   ]
  },
  {
   "cell_type": "code",
   "execution_count": 67,
   "id": "33b048ff",
   "metadata": {},
   "outputs": [
    {
     "name": "stdout",
     "output_type": "stream",
     "text": [
      "!dlroW ,olleH\n"
     ]
    }
   ],
   "source": [
    "#Reversing a String\n",
    "# We can easily reverse strings in python by using [::-1].\n",
    "greeting = 'Hello, World!'\n",
    "print(greeting[::-1]) # !dlroW ,olleH\n"
   ]
  },
  {
   "cell_type": "code",
   "execution_count": 83,
   "id": "1e26faac",
   "metadata": {},
   "outputs": [
    {
     "name": "stdout",
     "output_type": "stream",
     "text": [
      "!dlroW ,olleH\n",
      "13\n"
     ]
    }
   ],
   "source": [
    "greeting = 'Hello, World!'\n",
    "print(greeting[::-1]) # !dlroW ,olleH\n",
    "print(len(greeting))"
   ]
  },
  {
   "cell_type": "code",
   "execution_count": 89,
   "id": "8d82b8e2",
   "metadata": {},
   "outputs": [
    {
     "name": "stdout",
     "output_type": "stream",
     "text": [
      "Pto\n"
     ]
    }
   ],
   "source": [
    "#Skipping Characters While Slicing\n",
    "#It is possible to skip characters while slicing by passing step argument to slice method.\n",
    "language = 'Python'\n",
    "pto = language[0:6:2] #\n",
    "print(pto) # Pto"
   ]
  },
  {
   "cell_type": "code",
   "execution_count": 4,
   "id": "ae3f0956",
   "metadata": {},
   "outputs": [
    {
     "name": "stdout",
     "output_type": "stream",
     "text": [
      "Thirty days of python\n"
     ]
    }
   ],
   "source": [
    "#String Methods\n",
    "#There are many string methods which allow us to format strings. See some of the string\n",
    "#methods in the following example:\n",
    "#capitalize(): Converts the first character of the string to capital letter\n",
    "challenge = 'thirty days of python'\n",
    "print(challenge.capitalize()) # 'Thirty days of python'"
   ]
  },
  {
   "cell_type": "code",
   "execution_count": 6,
   "id": "124f70d9",
   "metadata": {},
   "outputs": [
    {
     "name": "stdout",
     "output_type": "stream",
     "text": [
      "3\n",
      "1\n",
      "2\n"
     ]
    }
   ],
   "source": [
    "#count(): returns occurrences of substring in string, count(substring, start=.., end=..).\n",
    "#The start is a starting indexing for counting and end is the last index to count.\n",
    "challenge = 'thirty days of python'\n",
    "print(challenge.count('y')) # 3\n",
    "print(challenge.count('y', 7, 14)) # 1,\n",
    "print(challenge.count('th')) # 2`"
   ]
  },
  {
   "cell_type": "code",
   "execution_count": 7,
   "id": "042f56de",
   "metadata": {},
   "outputs": [
    {
     "name": "stdout",
     "output_type": "stream",
     "text": [
      "True\n",
      "False\n"
     ]
    }
   ],
   "source": [
    "#endswith(): Checks if a string ends with a specified ending\n",
    "challenge = 'thirty days of python'\n",
    "print(challenge.endswith('on')) # True\n",
    "print(challenge.endswith('tion')) # False"
   ]
  },
  {
   "cell_type": "code",
   "execution_count": 11,
   "id": "1d0f6646",
   "metadata": {},
   "outputs": [
    {
     "name": "stdout",
     "output_type": "stream",
     "text": [
      "thirty  days    of      python\n",
      "thirty    days      of        python\n"
     ]
    }
   ],
   "source": [
    "#expandtabs(): Replaces tab character with spaces, default tab size is 8. It takes tab size argument\n",
    "challenge = 'thirty\\tdays\\tof\\tpython'\n",
    "print(challenge.expandtabs()) # 'thirty days of python'\n",
    "print(challenge.expandtabs(10)) # 'thirty days of python'\n",
    "\n"
   ]
  },
  {
   "cell_type": "code",
   "execution_count": 18,
   "id": "b965daa9",
   "metadata": {},
   "outputs": [
    {
     "name": "stdout",
     "output_type": "stream",
     "text": [
      "5\n",
      "0\n",
      "0\n",
      "17\n"
     ]
    }
   ],
   "source": [
    "# find(): Returns the index of the first occurrence of a substring, if not found returns -1\n",
    "challenge = 'thirty days of python'\n",
    "print(challenge.find('y')) # 5\n",
    "print(challenge.find('th')) # 0\n",
    "print(challenge.find('t')) #0\n",
    "print(challenge.find('tho')) #17"
   ]
  },
  {
   "cell_type": "code",
   "execution_count": 20,
   "id": "dab9911e",
   "metadata": {},
   "outputs": [
    {
     "name": "stdout",
     "output_type": "stream",
     "text": [
      "16\n",
      "17\n"
     ]
    }
   ],
   "source": [
    "# rfind(): Returns the index of the last occurrence of a substring, if not found returns -1\n",
    "challenge = 'thirty days of python'\n",
    "print(challenge.rfind('y')) # 16\n",
    "print(challenge.rfind('th')) # 17"
   ]
  },
  {
   "cell_type": "code",
   "execution_count": 29,
   "id": "edec1a60",
   "metadata": {},
   "outputs": [
    {
     "name": "stdout",
     "output_type": "stream",
     "text": [
      "I am Asabeneh Yetayeh. I am a 250. I am teacher years old. I live in Finland.\n",
      "The area of a circle with radius 10 is 314.0\n"
     ]
    }
   ],
   "source": [
    "# format(): formats string into a nicer output\n",
    "# More about string formatting check this link\n",
    "first_name = 'Asabeneh'\n",
    "last_name = 'Yetayeh'\n",
    "age = 250\n",
    "job = 'teacher'\n",
    "country = 'Finland'\n",
    "sentence = 'I am {} {}. I am a {}. I am {} years old. I live in {}.'.format(first_name, last_name, age, job, country)\n",
    "print(sentence) # I am Asabeneh Yetayeh. I am 250 years old. I am a teacher. I\n",
    "\n",
    "\n",
    "radius = 10\n",
    "pi = 3.14\n",
    "area = pi * radius ** 2\n",
    "result = 'The area of a circle with radius {} is {}'.format(str(radius), str(area))\n",
    "print(result) # The area of a circle with radius 10 is 314\n"
   ]
  },
  {
   "cell_type": "code",
   "execution_count": 41,
   "id": "c7bccd0c",
   "metadata": {},
   "outputs": [
    {
     "name": "stdout",
     "output_type": "stream",
     "text": [
      "7\n"
     ]
    },
    {
     "ename": "ValueError",
     "evalue": "substring not found",
     "output_type": "error",
     "traceback": [
      "\u001b[1;31m---------------------------------------------------------------------------\u001b[0m",
      "\u001b[1;31mValueError\u001b[0m                                Traceback (most recent call last)",
      "Input \u001b[1;32mIn [41]\u001b[0m, in \u001b[0;36m<cell line: 7>\u001b[1;34m()\u001b[0m\n\u001b[0;32m      5\u001b[0m sub_string \u001b[38;5;241m=\u001b[39m \u001b[38;5;124m'\u001b[39m\u001b[38;5;124mda\u001b[39m\u001b[38;5;124m'\u001b[39m\n\u001b[0;32m      6\u001b[0m \u001b[38;5;28mprint\u001b[39m(challenge\u001b[38;5;241m.\u001b[39mindex(sub_string)) \u001b[38;5;66;03m# 7\u001b[39;00m\n\u001b[1;32m----> 7\u001b[0m \u001b[38;5;28mprint\u001b[39m(\u001b[43mchallenge\u001b[49m\u001b[38;5;241;43m.\u001b[39;49m\u001b[43mindex\u001b[49m\u001b[43m(\u001b[49m\u001b[43msub_string\u001b[49m\u001b[43m,\u001b[49m\u001b[43m \u001b[49m\u001b[38;5;241;43m9\u001b[39;49m\u001b[43m)\u001b[49m)\n",
      "\u001b[1;31mValueError\u001b[0m: substring not found"
     ]
    }
   ],
   "source": [
    "#index(): Returns the lowest index of a substring, additional arguments indicate starting\n",
    "#and ending index (default 0 and string length - 1). If the substring is not found it raises\n",
    "#a valueError.\n",
    "challenge = 'thirty days of python'\n",
    "sub_string = 'da'\n",
    "print(challenge.index(sub_string)) # 7\n",
    "print(challenge.index(sub_string, 9)) # error"
   ]
  },
  {
   "cell_type": "code",
   "execution_count": 33,
   "id": "5636651b",
   "metadata": {},
   "outputs": [
    {
     "name": "stdout",
     "output_type": "stream",
     "text": [
      "7\n"
     ]
    }
   ],
   "source": [
    "#rindex(): Returns the highest index of a substring, additional arguments indicate\n",
    "#starting and ending index (default 0 and string length - 1)\n",
    "challenge = 'thirty days of python'\n",
    "sub_string = 'da'\n",
    "print(challenge.rindex(sub_string)) # 7\n",
    "print(challenge.rindex(sub_string, 9)) # error"
   ]
  },
  {
   "cell_type": "code",
   "execution_count": 42,
   "id": "95c07dc9",
   "metadata": {},
   "outputs": [
    {
     "name": "stdout",
     "output_type": "stream",
     "text": [
      "True\n",
      "True\n",
      "False\n",
      "False\n"
     ]
    }
   ],
   "source": [
    "# salnum(): Checks alphanumeric character\n",
    "challenge = 'ThirtyDaysPython'\n",
    "print(challenge.isalnum()) # True\n",
    "challenge = '30DaysPython'\n",
    "print(challenge.isalnum()) # True\n",
    "challenge = 'thirty days of python'\n",
    "print(challenge.isalnum()) # False, space is not an alphanumeric character\n",
    "challenge = 'thirty days of python 2019'\n",
    "print(challenge.isalnum()) # False"
   ]
  },
  {
   "cell_type": "code",
   "execution_count": 43,
   "id": "80a5d5b2",
   "metadata": {},
   "outputs": [
    {
     "name": "stdout",
     "output_type": "stream",
     "text": [
      "False\n",
      "True\n",
      "False\n"
     ]
    }
   ],
   "source": [
    "# isalpha(): Checks if all string elements are alphabet characters (a-z and A-Z)\n",
    "challenge = 'thirty days of python'\n",
    "print(challenge.isalpha()) # False, space is once again excluded\n",
    "challenge = 'ThirtyDaysPython'\n",
    "print(challenge.isalpha()) # True\n",
    "num = '123'\n",
    "print(num.isalpha()) # False\n"
   ]
  },
  {
   "cell_type": "code",
   "execution_count": 44,
   "id": "59f403c3",
   "metadata": {},
   "outputs": [
    {
     "name": "stdout",
     "output_type": "stream",
     "text": [
      "False\n",
      "True\n",
      "True\n",
      "False\n"
     ]
    }
   ],
   "source": [
    "#isdecimal(): Checks if all characters in a string are decimal (0-9)\n",
    "challenge = 'thirty days of python'\n",
    "print(challenge.isdecimal()) # False\n",
    "challenge = '123'\n",
    "print(challenge.isdecimal()) # True\n",
    "challenge = '\\u00B2'\n",
    "print(challenge.isdigit()) # False\n",
    "challenge = '12 3'\n",
    "print(challenge.isdecimal()) # False, space not allowed"
   ]
  },
  {
   "cell_type": "code",
   "execution_count": 45,
   "id": "9156b14a",
   "metadata": {},
   "outputs": [
    {
     "name": "stdout",
     "output_type": "stream",
     "text": [
      "False\n",
      "True\n",
      "True\n"
     ]
    }
   ],
   "source": [
    "# isdigit(): Checks if all characters in a string are numbers (0-9 and some other unicode\n",
    "#characters for numbers)\n",
    "challenge = 'Thirty'\n",
    "print(challenge.isdigit()) # False\n",
    "challenge = '30'\n",
    "print(challenge.isdigit()) # True\n",
    "challenge = '\\u00B2'\n",
    "print(challenge.isdigit()) # True\n"
   ]
  },
  {
   "cell_type": "code",
   "execution_count": 46,
   "id": "58f6307d",
   "metadata": {},
   "outputs": [
    {
     "name": "stdout",
     "output_type": "stream",
     "text": [
      "True\n",
      "True\n",
      "False\n"
     ]
    }
   ],
   "source": [
    "#isnumeric(): Checks if all characters in a string are numbers or number related (just like\n",
    "#isdigit(), just accepts more symbols, like ½)\n",
    "num = '10'\n",
    "print(num.isnumeric()) # True\n",
    "num = '\\u00BD' # ½\n",
    "print(num.isnumeric()) # True\n",
    "num = '10.5'\n",
    "print(num.isnumeric()) # False"
   ]
  },
  {
   "cell_type": "code",
   "execution_count": 47,
   "id": "c709f682",
   "metadata": {},
   "outputs": [
    {
     "name": "stdout",
     "output_type": "stream",
     "text": [
      "False\n",
      "True\n"
     ]
    }
   ],
   "source": [
    "#isidentifier(): Checks for a valid identifier - it checks if a string is a valid variable name\n",
    "challenge = '30DaysOfPython'\n",
    "print(challenge.isidentifier()) # False, because it starts with a number\n",
    "challenge = 'thirty_days_of_python'\n",
    "print(challenge.isidentifier()) # True"
   ]
  },
  {
   "cell_type": "code",
   "execution_count": 48,
   "id": "cc261149",
   "metadata": {},
   "outputs": [
    {
     "name": "stdout",
     "output_type": "stream",
     "text": [
      "True\n",
      "False\n"
     ]
    }
   ],
   "source": [
    "#slower(): Checks if all alphabet characters in the string are lowercase\n",
    "challenge = 'thirty days of python'\n",
    "print(challenge.islower()) # True\n",
    "challenge = 'Thirty days of python'\n",
    "print(challenge.islower()) # False\n"
   ]
  },
  {
   "cell_type": "code",
   "execution_count": 55,
   "id": "ef74e9ae",
   "metadata": {},
   "outputs": [
    {
     "name": "stdout",
     "output_type": "stream",
     "text": [
      "False\n",
      "True\n"
     ]
    }
   ],
   "source": [
    "#isupper(): Checks if all alphabet characters in the string are uppercase\n",
    "challenge = 'thirty days of python'\n",
    "print(challenge.isupper()) # False\n",
    "challenge = 'THIRTY DAYS OF PYTHON'\n",
    "print(challenge.isupper()) # True"
   ]
  },
  {
   "cell_type": "code",
   "execution_count": 65,
   "id": "decbf792",
   "metadata": {},
   "outputs": [
    {
     "name": "stdout",
     "output_type": "stream",
     "text": [
      "HTML CSS JavaScript React\n",
      "HTML# CSS# JavaScript# React\n"
     ]
    }
   ],
   "source": [
    "# join(): Returns a concatenated string\n",
    "web_tech = ['HTML', 'CSS', 'JavaScript', 'React']\n",
    "result =' '.join(web_tech)\n",
    "print(result) # 'HTML CSS JavaScript React'\n",
    "\n",
    "\n",
    "web_tech = ['HTML', 'CSS', 'JavaScript', 'React']\n",
    "result = '# '.join(web_tech)\n",
    "print(result) # 'HTML# CSS# JavaScript# React'\n"
   ]
  },
  {
   "cell_type": "code",
   "execution_count": 73,
   "id": "99767505",
   "metadata": {},
   "outputs": [
    {
     "name": "stdout",
     "output_type": "stream",
     "text": [
      "irty days of py\n"
     ]
    }
   ],
   "source": [
    "#strip(): Removes all given characters starting from the beginning and end of the string\n",
    "challenge = 'thirty days of pythoonnn'\n",
    "print(challenge.strip('noth')) # 'irty days of py'"
   ]
  },
  {
   "cell_type": "code",
   "execution_count": 74,
   "id": "a910e942",
   "metadata": {},
   "outputs": [
    {
     "name": "stdout",
     "output_type": "stream",
     "text": [
      "thirty days of coding\n"
     ]
    }
   ],
   "source": [
    "#replace(): Replaces substring with a given string\n",
    "challenge = 'thirty days of python'\n",
    "print(challenge.replace('python', 'coding')) # 'thirty days of coding'\n"
   ]
  },
  {
   "cell_type": "code",
   "execution_count": 75,
   "id": "082e7374",
   "metadata": {},
   "outputs": [
    {
     "name": "stdout",
     "output_type": "stream",
     "text": [
      "['thirty', 'days', 'of', 'python']\n",
      "['thirty', 'days', 'of', 'python']\n"
     ]
    }
   ],
   "source": [
    "#split(): Splits the string, using given string or space as a separator\n",
    "challenge = 'thirty days of python'\n",
    "print(challenge.split()) # ['thirty', 'days', 'of', 'python']\n",
    "challenge = 'thirty, days, of, python'\n",
    "print(challenge.split(', ')) # ['thirty', 'days', 'of', 'python']   "
   ]
  },
  {
   "cell_type": "code",
   "execution_count": 76,
   "id": "ed7a18be",
   "metadata": {},
   "outputs": [
    {
     "name": "stdout",
     "output_type": "stream",
     "text": [
      "Thirty Days Of Python\n"
     ]
    }
   ],
   "source": [
    "#title(): Returns a title cased string\n",
    "challenge = 'thirty days of python'\n",
    "print(challenge.title()) # Thirty Days Of Python\n",
    "\n"
   ]
  },
  {
   "cell_type": "code",
   "execution_count": 77,
   "id": "e95c11bc",
   "metadata": {},
   "outputs": [
    {
     "name": "stdout",
     "output_type": "stream",
     "text": [
      "THIRTY DAYS OF PYTHON\n",
      "tHIRTY dAYS oF pYTHON\n"
     ]
    }
   ],
   "source": []
  },
  {
   "cell_type": "code",
   "execution_count": 79,
   "id": "efbba36e",
   "metadata": {},
   "outputs": [
    {
     "name": "stdout",
     "output_type": "stream",
     "text": [
      "False\n",
      "True\n"
     ]
    }
   ],
   "source": [
    "# startswith(): Checks if String Starts with the Specified String\n",
    "challenge = '30 days of python'\n",
    "print(challenge.startswith('thirty')) # False\n",
    "print(challenge.startswith('30')) # True\n"
   ]
  },
  {
   "cell_type": "code",
   "execution_count": null,
   "id": "5a7e4e66",
   "metadata": {},
   "outputs": [],
   "source": []
  }
 ],
 "metadata": {
  "kernelspec": {
   "display_name": "Python 3 (ipykernel)",
   "language": "python",
   "name": "python3"
  },
  "language_info": {
   "codemirror_mode": {
    "name": "ipython",
    "version": 3
   },
   "file_extension": ".py",
   "mimetype": "text/x-python",
   "name": "python",
   "nbconvert_exporter": "python",
   "pygments_lexer": "ipython3",
   "version": "3.9.12"
  }
 },
 "nbformat": 4,
 "nbformat_minor": 5
}
