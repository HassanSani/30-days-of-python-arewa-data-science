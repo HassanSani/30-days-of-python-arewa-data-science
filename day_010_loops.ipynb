{
 "cells": [
  {
   "cell_type": "raw",
   "id": "4ba8d685",
   "metadata": {},
   "source": [
    "# Exercises: Day 8\n",
    "1. Create an empty dictionary called dog\n",
    "2. Add name, color, breed, legs, age to the dog dictionary\n",
    "3. Create a student dictionary and add first_name, last_name, gender, age, marital status, skills, country, city and address as    keys for the dictionary\n",
    "4. Get the length of the student dictionary\n",
    "5. Get the value of skills and check the data type, it should be a list\n",
    "6. Modify the skills values by adding one or two skills\n",
    "7. Get the dictionary keys as a list\n",
    "8. Get the dictionary values as a list\n",
    "9. Change the dictionary to a list of tuples using items() method\n",
    "10. Delete one of the items in the dictionary\n",
    "11. Delete one of the dictionaries"
   ]
  },
  {
   "cell_type": "code",
   "execution_count": 3,
   "id": "03e47e58",
   "metadata": {},
   "outputs": [
    {
     "name": "stdout",
     "output_type": "stream",
     "text": [
      "{'name': 'Bingo', 'color': 'Black', 'breed': 'German shephard', 'legs': 'Tall', 'age': 26}\n"
     ]
    }
   ],
   "source": [
    "dog={}\n",
    "dog = {\n",
    "    'name':'Bingo', \n",
    "    'color':'Black', \n",
    "    'breed':'German shephard', \n",
    "    'legs':'Tall', \n",
    "    'age':26}\n",
    "print(dog)"
   ]
  },
  {
   "cell_type": "code",
   "execution_count": 4,
   "id": "15b8b8d2",
   "metadata": {},
   "outputs": [
    {
     "name": "stdout",
     "output_type": "stream",
     "text": [
      "8\n"
     ]
    },
    {
     "data": {
      "text/plain": [
       "['Python', 'Microsopy', 'Drosophila']"
      ]
     },
     "execution_count": 4,
     "metadata": {},
     "output_type": "execute_result"
    }
   ],
   "source": [
    "student={\n",
    "    'first_name':'Hassan', \n",
    "    'last_name':'Sani', \n",
    "    'gender':'Male', \n",
    "    'age':31, \n",
    "    'marital_status':'Married', \n",
    "    'skills':['Python', 'Microsopy', 'Drosophila'],\n",
    "    'country':'Nigeria',\n",
    "    'city':'Abuja'}\n",
    "print(len(student))\n",
    "student['skills']"
   ]
  },
  {
   "cell_type": "code",
   "execution_count": 5,
   "id": "95d31d30",
   "metadata": {},
   "outputs": [
    {
     "name": "stdout",
     "output_type": "stream",
     "text": [
      "['Python', 'Microsopy', 'Drosophila', 'R studio', 'MS word']\n"
     ]
    }
   ],
   "source": [
    "student['skills'].append(\"R studio\")\n",
    "\n",
    "student['skills'].append('MS word')\n",
    "\n",
    "print(student['skills'])"
   ]
  },
  {
   "cell_type": "code",
   "execution_count": 6,
   "id": "c606705b",
   "metadata": {},
   "outputs": [
    {
     "name": "stdout",
     "output_type": "stream",
     "text": [
      "dict_keys(['first_name', 'last_name', 'gender', 'age', 'marital_status', 'skills', 'country', 'city'])\n"
     ]
    }
   ],
   "source": [
    "keys = student.keys()\n",
    "print(keys)"
   ]
  },
  {
   "cell_type": "code",
   "execution_count": 7,
   "id": "25ed816d",
   "metadata": {},
   "outputs": [
    {
     "name": "stdout",
     "output_type": "stream",
     "text": [
      "dict_values(['Hassan', 'Sani', 'Male', 31, 'Married', ['Python', 'Microsopy', 'Drosophila', 'R studio', 'MS word'], 'Nigeria', 'Abuja'])\n"
     ]
    }
   ],
   "source": [
    "values = student.values()\n",
    "print(values)"
   ]
  },
  {
   "cell_type": "code",
   "execution_count": 8,
   "id": "93b7f017",
   "metadata": {},
   "outputs": [
    {
     "name": "stdout",
     "output_type": "stream",
     "text": [
      "dict_items([('first_name', 'Hassan'), ('last_name', 'Sani'), ('gender', 'Male'), ('age', 31), ('marital_status', 'Married'), ('skills', ['Python', 'Microsopy', 'Drosophila', 'R studio', 'MS word']), ('country', 'Nigeria'), ('city', 'Abuja')])\n"
     ]
    }
   ],
   "source": [
    "print(student.items())"
   ]
  },
  {
   "cell_type": "code",
   "execution_count": 11,
   "id": "18abfb2b",
   "metadata": {},
   "outputs": [
    {
     "name": "stdout",
     "output_type": "stream",
     "text": [
      "{'first_name': 'Hassan', 'gender': 'Male', 'age': 31, 'marital_status': 'Married', 'skills': ['Python', 'Microsopy', 'Drosophila', 'R studio', 'MS word'], 'country': 'Nigeria', 'city': 'Abuja'}\n"
     ]
    }
   ],
   "source": [
    "del student['last_name']\n",
    "\n",
    "print (student)"
   ]
  },
  {
   "cell_type": "code",
   "execution_count": null,
   "id": "e38834b3",
   "metadata": {},
   "outputs": [],
   "source": [
    "del dog\n"
   ]
  },
  {
   "cell_type": "code",
   "execution_count": 15,
   "id": "88d026d2",
   "metadata": {},
   "outputs": [
    {
     "ename": "NameError",
     "evalue": "name 'dog' is not defined",
     "output_type": "error",
     "traceback": [
      "\u001b[1;31m---------------------------------------------------------------------------\u001b[0m",
      "\u001b[1;31mNameError\u001b[0m                                 Traceback (most recent call last)",
      "Input \u001b[1;32mIn [15]\u001b[0m, in \u001b[0;36m<cell line: 1>\u001b[1;34m()\u001b[0m\n\u001b[1;32m----> 1\u001b[0m \u001b[38;5;28mprint\u001b[39m(\u001b[43mdog\u001b[49m)\n",
      "\u001b[1;31mNameError\u001b[0m: name 'dog' is not defined"
     ]
    }
   ],
   "source": [
    "print(dog)"
   ]
  },
  {
   "cell_type": "code",
   "execution_count": null,
   "id": "cee30f58",
   "metadata": {},
   "outputs": [],
   "source": []
  }
 ],
 "metadata": {
  "kernelspec": {
   "display_name": "Python 3 (ipykernel)",
   "language": "python",
   "name": "python3"
  },
  "language_info": {
   "codemirror_mode": {
    "name": "ipython",
    "version": 3
   },
   "file_extension": ".py",
   "mimetype": "text/x-python",
   "name": "python",
   "nbconvert_exporter": "python",
   "pygments_lexer": "ipython3",
   "version": "3.9.12"
  }
 },
 "nbformat": 4,
 "nbformat_minor": 5
}
