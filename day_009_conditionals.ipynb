{
 "cells": [
  {
   "cell_type": "raw",
   "id": "4baafd86",
   "metadata": {},
   "source": [
    "Exercises: Level 1\n",
    "Get user input using input(“Enter your age: ”). \n",
    "If user is 18 or older, give feedback: You are old enough to drive. \n",
    "If below 18 give feedback to wait for the missing amount of years. Output:"
   ]
  },
  {
   "cell_type": "code",
   "execution_count": null,
   "id": "25271a6a",
   "metadata": {},
   "outputs": [],
   "source": [
    "A = int(input('Enter Your Age: '))\n",
    "B = 18 - A\n",
    "\n",
    "if A > 18:\n",
    "    print('You are old enough to learn how to drive')\n",
    "elif A < 18:\n",
    "    print('You need {} more years to learn to drive'.format(B))"
   ]
  },
  {
   "cell_type": "code",
   "execution_count": null,
   "id": "73b996d6",
   "metadata": {},
   "outputs": [],
   "source": [
    "A = int(input('Enter Your Age: '))\n",
    "B = 18 - A\n",
    "\n",
    "if A > 18:\n",
    "    print('You are old enough to learn how to drive')\n",
    "elif A < 18:\n",
    "    print('You need {} more years to learn to drive'.format(B))"
   ]
  },
  {
   "cell_type": "raw",
   "id": "f8145123",
   "metadata": {},
   "source": [
    "Compare the values of my_age and your_age using if … else. Who is older (me or you)? \n",
    "Use input(“Enter your age: ”) to get the age as input.\n",
    "You can use a nested condition to print 'year' for 1 year difference in age, \n",
    "'years' for bigger differences, and a custom text if my_age = your_age. Output:"
   ]
  },
  {
   "cell_type": "raw",
   "id": "3be77a32",
   "metadata": {},
   "source": [
    "Enter your age: 30\n",
    "You are 5 years older than me."
   ]
  },
  {
   "cell_type": "code",
   "execution_count": null,
   "id": "6a0c0b2d",
   "metadata": {},
   "outputs": [],
   "source": [
    "Age = int (input('Enter Your Age: '))\n",
    "year = Age - 25\n",
    "if Age > 25 and year == 1:\n",
    "    print ('You are a year older than me')\n",
    "elif Age > 25 and year > 1:\n",
    "    print('You are {} years older than me'. format(year))\n",
    "elif Age < 25 and year == -1:\n",
    "    print ('You are a year younger than me')\n",
    "elif Age < 25 and year < -1:\n",
    "    print('You are {} years older than me'. format(-year))\n",
    "else:\n",
    "    print('We are Age mates')"
   ]
  },
  {
   "cell_type": "code",
   "execution_count": null,
   "id": "a66c683b",
   "metadata": {},
   "outputs": [],
   "source": [
    "Age = int (input('Enter Your Age: '))\n",
    "year = Age - 25\n",
    "if Age > 25 and year == 1:\n",
    "    print ('You are a year older than me')\n",
    "elif Age > 25 and year > 1:\n",
    "    print('You are {} years older than me'. format(year))\n",
    "elif Age < 25 and year == -1:\n",
    "    print ('You are a year younger than me')\n",
    "elif Age < 25 and year < -1:\n",
    "    print('You are {} years older than me'. format(-year))\n",
    "else:\n",
    "    print('We are Age mates')"
   ]
  },
  {
   "cell_type": "raw",
   "id": "c4295793",
   "metadata": {},
   "source": [
    "Get two numbers from the user using input prompt. If a is greater than b return a is greater than b, if a is less b return a is smaller than b, else a is equal to b. Output:\n",
    "Enter number one: 4\n",
    "Enter number two: 3\n",
    "4 is greater than 3"
   ]
  },
  {
   "cell_type": "code",
   "execution_count": null,
   "id": "e34109dc",
   "metadata": {},
   "outputs": [],
   "source": [
    "one = int (input('Enter number one: '))\n",
    "\n",
    "two = int (input('Enter number two: '))\n",
    "\n",
    "if one > two :\n",
    "    print ('{} is greater than {}'.format(one, two))\n",
    "elif one < two: \n",
    "    print ('{} is less than {}'.format(one, two))\n",
    "else:\n",
    "    print ('{} is equal to {}'.format(one, two))"
   ]
  },
  {
   "cell_type": "raw",
   "id": "e54f58ca",
   "metadata": {},
   "source": [
    "Write a code which gives grade to students according to theirs scores:\n",
    "\n",
    "80-100, A\n",
    "70-89, B\n",
    "60-69, C\n",
    "50-59, D\n",
    "0-49, F"
   ]
  },
  {
   "cell_type": "code",
   "execution_count": null,
   "id": "667bad9d",
   "metadata": {},
   "outputs": [],
   "source": [
    "score = int( input ('Score: '))\n",
    "\n",
    "if score >= 80:\n",
    "    print ('A')\n",
    "elif score >= 70:\n",
    "    print ('B')\n",
    "elif score >= 60:\n",
    "    print ('C')\n",
    "elif score >= 50:\n",
    "    print ('D')\n",
    "else:\n",
    "    print ('F')"
   ]
  },
  {
   "cell_type": "raw",
   "id": "f0f302e8",
   "metadata": {},
   "source": [
    "Check if the season is Autumn, Winter, Spring or Summer. If the user input is: September, October or November, \n",
    "    the season is Autumn. December, January or February, the season is Winter.\n",
    "    March, April or May, the season is Spring June, July or August, the season is Summer"
   ]
  },
  {
   "cell_type": "code",
   "execution_count": null,
   "id": "50274e65",
   "metadata": {},
   "outputs": [],
   "source": [
    "d = ['September', 'October', 'November']\n",
    "\n",
    "j = ['December', 'January', 'February']\n",
    "\n",
    "h = ['March', 'April', 'May']\n",
    "\n",
    "i = ['June', 'July', 'August']\n",
    "\n",
    "while True:\n",
    "    season = input('Enter Month: ')\n",
    "    if season in d:\n",
    "        print ('The season is Autumn')\n",
    "        break\n",
    "    elif season in j:\n",
    "        print ('The season is Winter')\n",
    "        break\n",
    "    elif season in h:\n",
    "        print ('The season is Spring')\n",
    "        break\n",
    "    elif season in i:\n",
    "        print ('The season is Summer')\n",
    "        break\n",
    "    else:\n",
    "        print(\"Invalid month, please enter a valid month.\")"
   ]
  },
  {
   "cell_type": "raw",
   "id": "e87cb085",
   "metadata": {},
   "source": [
    "The following list contains some fruits:\n",
    "\n",
    "fruits = ['banana', 'orange', 'mango', 'lemon']\n",
    "If a fruit doesn't exist in the list add the fruit to the list and print the modified list.\n",
    "If the fruit exists print('That fruit already exist in the list')"
   ]
  },
  {
   "cell_type": "code",
   "execution_count": null,
   "id": "d03b7b06",
   "metadata": {},
   "outputs": [],
   "source": [
    "fruits = ['banana', 'orange', 'mango', 'lemon']\n",
    "\n",
    "fruit = input(\"Enter a fruit: \")\n",
    "\n",
    "if fruit in fruits:\n",
    "    print(\"That fruit already exists in the list\")\n",
    "else:\n",
    "    fruits.append(fruit)\n",
    "    print(\"The New list of fruits: \", fruits)\n"
   ]
  },
  {
   "cell_type": "raw",
   "id": "6a0a96f9",
   "metadata": {},
   "source": [
    "Exercises: Level 3\n",
    "Here we have a person dictionary. Feel free to modify it!"
   ]
  },
  {
   "cell_type": "code",
   "execution_count": 4,
   "id": "43071d7c",
   "metadata": {},
   "outputs": [
    {
     "name": "stdout",
     "output_type": "stream",
     "text": [
      "{'first_name': 'Hassan', 'last_name': 'Sani', 'age': 30, 'country': 'Keffi', 'is_marred': True, 'skills': ['JavaScript', 'React', 'Node', 'MongoDB', 'Python'], 'address': {'street': 'Abuja street', 'zipcode': '02210'}}\n"
     ]
    }
   ],
   "source": [
    " person={\n",
    "    'first_name': 'Hassan',\n",
    "    'last_name': 'Sani',\n",
    "    'age': 30,\n",
    "    'country': 'Keffi',\n",
    "    'is_marred': True,\n",
    "    'skills': ['JavaScript', 'React', 'Node', 'MongoDB', 'Python'],\n",
    "    'address': {\n",
    "        'street': 'Abuja street',\n",
    "        'zipcode': '02210'\n",
    "    }\n",
    "    }\n",
    "\n",
    "print(person)"
   ]
  },
  {
   "cell_type": "code",
   "execution_count": 12,
   "id": "bbe75e70",
   "metadata": {},
   "outputs": [
    {
     "name": "stdout",
     "output_type": "stream",
     "text": [
      "Middle skill: Node\n",
      "Person has Python skill\n",
      "He is a backend developer\n",
      "Hassan Sani lives in Keffi . He is  married.\n"
     ]
    }
   ],
   "source": [
    "if 'skills' in person:\n",
    "    skills = person['skills']\n",
    "    length = len(skills)\n",
    "    if length % 2 == 0:\n",
    "        middle_index = int(length/2)\n",
    "        print(\"Middle skill:\", skills[middle_index-1], \"and\", skills[middle_index])\n",
    "    else:\n",
    "        middle_index = int(length/2)\n",
    "        print(\"Middle skill:\", skills[middle_index])\n",
    "\n",
    "    if 'Python' in skills:\n",
    "        print(\"Person has Python skill\")\n",
    "    else:\n",
    "        print(\"Person does not have Python skill\")\n",
    "\n",
    "    if len(skills) == 2 and 'JavaScript' in skills and 'React' in skills:\n",
    "        print(\"He is a front end developer\")\n",
    "    elif len(skills) == 3 and 'React' in skills and 'Node' in skills and 'MongoDB' in skills:\n",
    "        print(\"He is a fullstack developer\")\n",
    "    elif len(skills) >= 3 and 'Node' in skills and 'Python' in skills and 'MongoDB' in skills:\n",
    "        print(\"He is a backend developer\")\n",
    "    else:\n",
    "        print(\"unknown title\")\n",
    "\n",
    "if person['is_marred'] or person['country'] == 'Nigeria':\n",
    "    print(person['first_name'], person['last_name'], \"lives in\", person['country'], \". He is  married.\")"
   ]
  },
  {
   "cell_type": "code",
   "execution_count": null,
   "id": "a0db69e5",
   "metadata": {},
   "outputs": [],
   "source": []
  },
  {
   "cell_type": "code",
   "execution_count": null,
   "id": "07da512f",
   "metadata": {},
   "outputs": [],
   "source": []
  }
 ],
 "metadata": {
  "kernelspec": {
   "display_name": "Python 3 (ipykernel)",
   "language": "python",
   "name": "python3"
  },
  "language_info": {
   "codemirror_mode": {
    "name": "ipython",
    "version": 3
   },
   "file_extension": ".py",
   "mimetype": "text/x-python",
   "name": "python",
   "nbconvert_exporter": "python",
   "pygments_lexer": "ipython3",
   "version": "3.9.12"
  }
 },
 "nbformat": 4,
 "nbformat_minor": 5
}
