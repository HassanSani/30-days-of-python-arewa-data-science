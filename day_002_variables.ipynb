{
 "cells": [
  {
   "cell_type": "code",
   "execution_count": null,
   "id": "144e3746",
   "metadata": {},
   "outputs": [],
   "source": [
    "# Q Level 1\n",
    "ﬁrst_name='Hassan'\n",
    "print(first_name) \n",
    "last_name='Sani'\n",
    "print(last_name)\n",
    "full_name= first_name + ' ' +last_name\n",
    "print(full_name)\n",
    "country='Nigeria'\n",
    "print(country)\n",
    "city='Abuja'\n",
    "print(city)\n",
    "age=31\n",
    "print(age)\n",
    "year='2016'\n",
    "print(year)\n",
    "is_married=True\n",
    "print(is_married)\n",
    "is_true=True\n",
    "print(is_true)\n",
    "is_light= True\n",
    "print(is_light)\n"
   ]
  },
  {
   "cell_type": "code",
   "execution_count": null,
   "id": "cbce1c8f",
   "metadata": {},
   "outputs": [],
   "source": [
    "# Q Level 2\n",
    "print(type(first_name))\n",
    "print(type(last_name))\n",
    "print(type(full_name))\n",
    "print(type(country))\n",
    "print(type(city))\n",
    "print(type(age))\n",
    "print(type(year))\n",
    "print(type(is_married))\n",
    "print(type(is_true))\n",
    "print(type(is_light))\n",
    "print(type(is_married))"
   ]
  },
  {
   "cell_type": "code",
   "execution_count": null,
   "id": "3922cfc1",
   "metadata": {},
   "outputs": [],
   "source": [
    "# Q 3\n",
    "first_name==last_name"
   ]
  },
  {
   "cell_type": "code",
   "execution_count": null,
   "id": "61a2927f",
   "metadata": {},
   "outputs": [],
   "source": [
    "#Q 4\n",
    "num_one=5\n",
    "num_two=4\n",
    "total=num_one+num_two\n",
    "print(total)\n",
    "diff=num_one-num_two\n",
    "print(diff)\n",
    "product=num_one*num_two\n",
    "print(product)\n",
    "division=num_one/num_two\n",
    "print(division)\n",
    "remainder=num_one%num_two\n",
    "print(remainder)\n",
    "exp=num_one**num_two\n",
    "print(exp)\n",
    "floor_division=num_one//num_two\n",
    "print(floor_division)"
   ]
  },
  {
   "cell_type": "code",
   "execution_count": null,
   "id": "11115123",
   "metadata": {},
   "outputs": [],
   "source": [
    "#Q5\n",
    "#The radius of a circle is 30 meters\n",
    "radius=30\n",
    "print(radius)\n",
    "# A= pi *r **2 pi=3.14159\n",
    "area_of_circle=3.14159*(30**2)\n",
    "print(area_of_circle)\n",
    "\n",
    "# circum_of_circl=2pir\n",
    "circum_of_circl=2*3.14159*30\n",
    "print(circum_of_circl)\n",
    "\n",
    "#. Take radius as user input and calculate the are\n",
    "area_of_circle=3.14159*(radius**2)\n",
    "print(area_of_circle)"
   ]
  },
  {
   "cell_type": "code",
   "execution_count": null,
   "id": "02cf82a4",
   "metadata": {},
   "outputs": [],
   "source": [
    "#Q 6\n",
    "help('keywords')"
   ]
  }
 ],
 "metadata": {
  "kernelspec": {
   "display_name": "Python 3 (ipykernel)",
   "language": "python",
   "name": "python3"
  },
  "language_info": {
   "codemirror_mode": {
    "name": "ipython",
    "version": 3
   },
   "file_extension": ".py",
   "mimetype": "text/x-python",
   "name": "python",
   "nbconvert_exporter": "python",
   "pygments_lexer": "ipython3",
   "version": "3.9.12"
  }
 },
 "nbformat": 4,
 "nbformat_minor": 5
}
