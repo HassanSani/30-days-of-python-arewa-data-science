{
 "cells": [
  {
   "cell_type": "code",
   "execution_count": 2,
   "id": "ffb6defd",
   "metadata": {},
   "outputs": [
    {
     "name": "stdout",
     "output_type": "stream",
     "text": [
      "7\n",
      "-1\n",
      "12\n",
      "3\n",
      "0.75\n",
      "81\n",
      "0\n"
     ]
    }
   ],
   "source": [
    "#Q2\n",
    "print(3+4)\n",
    "print(3-4)\n",
    "print(3*4)\n",
    "print(3%4)\n",
    "print(3/4)\n",
    "print(3**4)\n",
    "print(3//4)"
   ]
  },
  {
   "cell_type": "code",
   "execution_count": 3,
   "id": "2d548732",
   "metadata": {},
   "outputs": [
    {
     "name": "stdout",
     "output_type": "stream",
     "text": [
      "Hassan\n",
      "Sani\n",
      "Nigeria\n",
      "I am enjoying 30 days of python\n"
     ]
    }
   ],
   "source": [
    "#Q3\n",
    "print('Hassan')\n",
    "print('Sani')\n",
    "print('Nigeria')\n",
    "print('I am enjoying 30 days of python')"
   ]
  },
  {
   "cell_type": "code",
   "execution_count": 4,
   "id": "f098609a",
   "metadata": {},
   "outputs": [
    {
     "name": "stdout",
     "output_type": "stream",
     "text": [
      "<class 'int'>\n",
      "<class 'float'>\n",
      "<class 'float'>\n",
      "<class 'complex'>\n",
      "<class 'list'>\n",
      "<class 'str'>\n",
      "<class 'str'>\n",
      "<class 'str'>\n"
     ]
    }
   ],
   "source": [
    "#Q4\n",
    "print(type(10))\n",
    "print(type(9.8))\n",
    "print(type(3.14))\n",
    "print(type(4-4j))\n",
    "print(type(['Asabeneh', 'Python', 'Finland']))\n",
    "print(type('Hassan'))\n",
    "print(type('Sani'))\n",
    "print(type('Ngeria'))"
   ]
  },
  {
   "cell_type": "code",
   "execution_count": 6,
   "id": "71bd44c9",
   "metadata": {
    "scrolled": true
   },
   "outputs": [
    {
     "name": "stdout",
     "output_type": "stream",
     "text": [
      "<class 'int'>\n",
      "<class 'float'>\n",
      "HASSAN\n",
      "None\n",
      "<class 'tuple'>\n",
      "<class 'set'>\n",
      "<class 'dict'>\n",
      "<class 'complex'>\n",
      "<class 'bool'>\n"
     ]
    }
   ],
   "source": [
    "#Q5\n",
    "print(type(3)) #for intergers\n",
    "print(type(3.3)) # fro float\n",
    "print(print(\"HASSAN\")) # fro string\n",
    "print(type((3.5, 1.9, 3.6))) # for tuple\n",
    "print(type({3.5, 1.9, 3.6})) # for set\n",
    "print(type({'name':'Hassan'})) # for Dictionary\n",
    "print(type(3.5 + 4j))      # Complex number\n",
    "print(type(False))"
   ]
  },
  {
   "cell_type": "code",
   "execution_count": 7,
   "id": "ab33fff1",
   "metadata": {},
   "outputs": [
    {
     "name": "stdout",
     "output_type": "stream",
     "text": [
      "Euclidian distance from x to y: 82.15229759416349\n"
     ]
    }
   ],
   "source": [
    "import math\n",
    "x= (92,3)\n",
    "y= (10, 8)\n",
    "distance= math.sqrt(sum([(a-b)**2 for a, b in zip(x,y)]))\n",
    "print(\"Euclidian distance from x to y:\", distance)"
   ]
  },
  {
   "cell_type": "code",
   "execution_count": null,
   "id": "8f6333a3",
   "metadata": {},
   "outputs": [],
   "source": []
  }
 ],
 "metadata": {
  "kernelspec": {
   "display_name": "Python 3 (ipykernel)",
   "language": "python",
   "name": "python3"
  },
  "language_info": {
   "codemirror_mode": {
    "name": "ipython",
    "version": 3
   },
   "file_extension": ".py",
   "mimetype": "text/x-python",
   "name": "python",
   "nbconvert_exporter": "python",
   "pygments_lexer": "ipython3",
   "version": "3.9.12"
  }
 },
 "nbformat": 4,
 "nbformat_minor": 5
}
