{
 "cells": [
  {
   "cell_type": "code",
   "execution_count": 1,
   "id": "2038d614",
   "metadata": {},
   "outputs": [
    {
     "name": "stdout",
     "output_type": "stream",
     "text": [
      "Nordic countries ['Finland', 'Sweden', 'Norway', 'Denmark', 'Iceland']\n",
      "Estonia Estonia\n",
      "Russia Russia\n"
     ]
    }
   ],
   "source": [
    "#Exercise 1\n",
    "names = ['Finland', 'Sweden', 'Norway','Denmark','Iceland', 'Estonia','Russia']\n",
    "*nordic_counries, es, ru = names\n",
    "print('Nordic countries', nordic_counries)\n",
    "print( 'Estonia', es)\n",
    "print('Russia', ru)"
   ]
  },
  {
   "cell_type": "code",
   "execution_count": null,
   "id": "3ade871d",
   "metadata": {},
   "outputs": [],
   "source": []
  }
 ],
 "metadata": {
  "kernelspec": {
   "display_name": "Python 3 (ipykernel)",
   "language": "python",
   "name": "python3"
  },
  "language_info": {
   "codemirror_mode": {
    "name": "ipython",
    "version": 3
   },
   "file_extension": ".py",
   "mimetype": "text/x-python",
   "name": "python",
   "nbconvert_exporter": "python",
   "pygments_lexer": "ipython3",
   "version": "3.10.9"
  }
 },
 "nbformat": 4,
 "nbformat_minor": 5
}
