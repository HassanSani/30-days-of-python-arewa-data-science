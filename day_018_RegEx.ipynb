{
 "cells": [
  {
   "cell_type": "code",
   "execution_count": 48,
   "id": "42e2789f",
   "metadata": {},
   "outputs": [],
   "source": [
    "#evel 1\n",
    "#1\n"
   ]
  },
  {
   "cell_type": "code",
   "execution_count": 22,
   "id": "6581b7df",
   "metadata": {},
   "outputs": [
    {
     "name": "stdout",
     "output_type": "stream",
     "text": [
      "The extracted numbers are:  ['-12', '-4', '-3', '-1', '0', '4', '8']\n",
      "[-12, -4, -3, -1, 0, 4, 8]\n",
      "[-12, -4, -3, -1, 0, 4, 8]\n",
      "The distance between the furthest points is =  20\n"
     ]
    }
   ],
   "source": [
    "#Level 1 Q2.\n",
    "sen = '''The position of some particles on the horizontal x-axis are -12, -4, -3 and -1 in the negative\n",
    "direction, 0 at origin, 4 and 8 in the positive direction'''\n",
    "reg = r'-?\\d+'\n",
    "new = re.findall(reg, sen)\n",
    "print(\"The extracted numbers are: \",new)\n",
    "new_int = [int(i) for i in new]\n",
    "#The numbers are converted to integers\n",
    "print(new_int)\n",
    "#The list is sorted to check for furthest distance\n",
    "sorted_new = sorted(new_int)\n",
    "print(sorted_new)\n",
    "#The distance between the furthest point\n",
    "distance = (sorted_new[-1] - sorted_new[0])\n",
    "print('The distance between the furthest points is = ', distance)"
   ]
  },
  {
   "cell_type": "code",
   "execution_count": 23,
   "id": "913c2850",
   "metadata": {},
   "outputs": [
    {
     "name": "stdout",
     "output_type": "stream",
     "text": [
      "firstname: True\n",
      "1firstname: False\n",
      "_firstname: True\n"
     ]
    }
   ],
   "source": [
    "#Level 2 Q1.\n",
    "def is_valid_variable(s):\n",
    "    pattern = r'^[a-zA-Z_][a-zA-Z0-9_]*$'\n",
    "    return bool(re.match(pattern, s))\n",
    "print('firstname:', is_valid_variable('firstname'))\n",
    "print('1firstname:', is_valid_variable('1firstname'))\n",
    "print('_firstname:', is_valid_variable('_firstname'))"
   ]
  },
  {
   "cell_type": "code",
   "execution_count": 46,
   "id": "67ae7fd8",
   "metadata": {},
   "outputs": [
    {
     "name": "stdout",
     "output_type": "stream",
     "text": [
      "I $am a teacher, &and& I lo#ve teaching;.\n",
      "There $is not# is nothing; &as&\n",
      "more rewarding as educating\n",
      "&and& empowering people. ;I\n",
      "found teaching more interesting\n",
      "than any other jobs. Does\n",
      "this motivate you to be a\n",
      "teacher!?\n"
     ]
    }
   ],
   "source": [
    "#Q2\n",
    "sen = '''%I $am@% a %tea@cher%, &and& I lo%#ve %tea@ching%;.\n",
    "There $is not# is nothing; &as&\n",
    "mo@re rewarding as educa@ting\n",
    "&and& @emp%o@wering peo@ple. ;I\n",
    "found tea@ching m%o@re interesting\n",
    "tha@n any other %jo@bs. %Do@es\n",
    "thi%s mo@tivate yo@u to be a\n",
    "tea@cher!?'''\n",
    "reg=re.sub('%|$|@', '', sen)\n",
    "print(reg)"
   ]
  },
  {
   "cell_type": "code",
   "execution_count": null,
   "id": "13eb086e",
   "metadata": {},
   "outputs": [],
   "source": []
  }
 ],
 "metadata": {
  "kernelspec": {
   "display_name": "Python 3 (ipykernel)",
   "language": "python",
   "name": "python3"
  },
  "language_info": {
   "codemirror_mode": {
    "name": "ipython",
    "version": 3
   },
   "file_extension": ".py",
   "mimetype": "text/x-python",
   "name": "python",
   "nbconvert_exporter": "python",
   "pygments_lexer": "ipython3",
   "version": "3.10.9"
  }
 },
 "nbformat": 4,
 "nbformat_minor": 5
}
