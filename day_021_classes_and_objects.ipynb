{
 "cells": [
  {
   "cell_type": "code",
   "execution_count": 42,
   "id": "c38938a7",
   "metadata": {},
   "outputs": [
    {
     "ename": "AttributeError",
     "evalue": "'Statistics' object has no attribute 'describe'",
     "output_type": "error",
     "traceback": [
      "\u001b[1;31m---------------------------------------------------------------------------\u001b[0m",
      "\u001b[1;31mAttributeError\u001b[0m                            Traceback (most recent call last)",
      "Cell \u001b[1;32mIn[42], line 65\u001b[0m\n\u001b[0;32m     63\u001b[0m ages \u001b[38;5;241m=\u001b[39m [\u001b[38;5;241m31\u001b[39m, \u001b[38;5;241m26\u001b[39m, \u001b[38;5;241m34\u001b[39m, \u001b[38;5;241m37\u001b[39m, \u001b[38;5;241m27\u001b[39m, \u001b[38;5;241m26\u001b[39m, \u001b[38;5;241m32\u001b[39m, \u001b[38;5;241m32\u001b[39m, \u001b[38;5;241m26\u001b[39m, \u001b[38;5;241m27\u001b[39m, \u001b[38;5;241m27\u001b[39m, \u001b[38;5;241m24\u001b[39m, \u001b[38;5;241m32\u001b[39m, \u001b[38;5;241m33\u001b[39m, \u001b[38;5;241m27\u001b[39m, \u001b[38;5;241m25\u001b[39m, \u001b[38;5;241m26\u001b[39m, \u001b[38;5;241m38\u001b[39m]\n\u001b[0;32m     64\u001b[0m data \u001b[38;5;241m=\u001b[39m Statistics(ages)\n\u001b[1;32m---> 65\u001b[0m \u001b[43mdata\u001b[49m\u001b[38;5;241;43m.\u001b[39;49m\u001b[43mdescribe\u001b[49m()\n",
      "\u001b[1;31mAttributeError\u001b[0m: 'Statistics' object has no attribute 'describe'"
     ]
    }
   ],
   "source": [
    "#Q1\n",
    "import statistics as stats\n",
    "class Statistics:\n",
    "    def __init__(self,data):\n",
    "        self.data = data\n",
    "        \n",
    "    def count(self):\n",
    "        return len(self.data)\n",
    "    \n",
    "    def sum(self):\n",
    "        return sum(self.data)\n",
    "    \n",
    "    def min(self):\n",
    "        return min(self.data)\n",
    "    \n",
    "    def max(self):\n",
    "        return max(self.data)\n",
    "    \n",
    "    def range(self):\n",
    "        return self.max(data) - self.min(data)\n",
    "    \n",
    "    def mean(self):\n",
    "        return stats.mean(self.data)\n",
    "    \n",
    "    def median(self):\n",
    "        return stats.median(self.data)\n",
    "    \n",
    "    def mode(self):\n",
    "        mode = stats.mode(self.data)\n",
    "        count = self.data.count(mode)\n",
    "        return (mode, count)\n",
    "    \n",
    "    def var(self):\n",
    "        return stats.variance(self.data)\n",
    "    \n",
    "    def std(self):\n",
    "        return stats.stdev(self.data)\n",
    "    \n",
    "    def freq_dist(self):\n",
    "        frequency_dict = {}\n",
    "        for i in self.data:\n",
    "            if i in frequency_dict:\n",
    "                frequency_dict[i] += 1\n",
    "            else: \n",
    "                frequency_dict[i] = 1\n",
    "                \n",
    "        frequency_list = [(value, key) for key, value in frequency_dic]\n",
    "        frequency_list.sort(reverse=True)\n",
    "        return frequency_list\n",
    "\n",
    "def describe(self):\n",
    "    print('Count:', self.count()) # 25\n",
    "    print('Sum: ', self.sum()) # 744\n",
    "    print('Min: ', self.min()) # 24\n",
    "    print('Max: ', self.max()) # 38\n",
    "    print('Range: ', self.range()) # 14\n",
    "    print('Mean: ', self.mean()) # 30\n",
    "    print('Median: ', self.median()) # 29\n",
    "    print('Mode: ', self.mode()) # {'mode': 26, 'count': 5}\n",
    "    print('Standard Deviation: ', data.std()) # 4.2\n",
    "    print('Variance: ', self.var()) # 17.5\n",
    "    print('Frequency Distribution: ', self.freq_dist()) # [(20.0, 26), (16.0, 27),\n",
    "ages = [31, 26, 34, 37, 27, 26, 32, 32, 26, 27, 27, 24, 32, 33, 27, 25, 26, 38]\n",
    "data = Statistics(ages)\n",
    "data.describe()\n"
   ]
  },
  {
   "cell_type": "raw",
   "id": "972e8e2c",
   "metadata": {},
   "source": [
    "Create a class called PersonAccount. It has firstname, lastname, incomes, expenses\n",
    "properties and it has total_income, total_expense, account_info, add_income,\n",
    "add_expense and account_balance methods. Incomes is a set of incomes and its\n",
    "description. The same goes for expenses.\n"
   ]
  },
  {
   "cell_type": "code",
   "execution_count": 45,
   "id": "8007749d",
   "metadata": {},
   "outputs": [
    {
     "name": "stdout",
     "output_type": "stream",
     "text": [
      "First name:  Faridah\n",
      "Last name:  Yusuf\n",
      "Incomes:  [(600000000, 'salary'), (90000, 'bonus')]\n",
      "Expenses:  [(1000, 'books'), (12000, 'fuel')]\n",
      "Total Income:  600090000\n",
      "Total Expense:  13000\n",
      "Account Balance:  600077000\n"
     ]
    }
   ],
   "source": [
    "#Q2\n",
    "class PersonAccount:\n",
    "    '''A class to calculate incomes and expenses of persons'''\n",
    "    def __init__(self, firstname, lastname):\n",
    "        self.firstname = firstname\n",
    "        self.lastname = lastname\n",
    "        self.incomes = []\n",
    "        self.expenses = []\n",
    "    def add_income(self, amount, description):\n",
    "        self.incomes.append((amount, description))\n",
    "    def add_expense(self, amount, description):\n",
    "        self.expenses.append((amount, description))\n",
    "    def total_income(self):\n",
    "        total = 0\n",
    "        for income in self.incomes:\n",
    "            total += income[0]\n",
    "        return total\n",
    "    def total_expense(self):\n",
    "        total = 0\n",
    "        for expense in self.expenses:\n",
    "            total += expense[0]\n",
    "        return total\n",
    "\n",
    "    def account_balance(self):\n",
    "        return self.total_income() - self.total_expense()\n",
    "    def account_info(self):\n",
    "        print(\"First name: \", self.firstname)\n",
    "        print(\"Last name: \", self.lastname)\n",
    "        print(\"Incomes: \", self.incomes)\n",
    "        print(\"Expenses: \", self.expenses)\n",
    "        print(\"Total Income: \", self.total_income())\n",
    "        print(\"Total Expense: \", self.total_expense())\n",
    "        print(\"Account Balance: \", self.account_balance())\n",
    "account = PersonAccount(\"Faridah\", \"Yusuf\")\n",
    "account.add_income(600_000_000, \"salary\")\n",
    "account.add_income(90_000, \"bonus\")\n",
    "account.add_expense(1_000, \"books\")\n",
    "account.add_expense(12_000, \"fuel\")\n",
    "account.account_info()"
   ]
  }
 ],
 "metadata": {
  "kernelspec": {
   "display_name": "Python 3 (ipykernel)",
   "language": "python",
   "name": "python3"
  },
  "language_info": {
   "codemirror_mode": {
    "name": "ipython",
    "version": 3
   },
   "file_extension": ".py",
   "mimetype": "text/x-python",
   "name": "python",
   "nbconvert_exporter": "python",
   "pygments_lexer": "ipython3",
   "version": "3.10.9"
  }
 },
 "nbformat": 4,
 "nbformat_minor": 5
}
