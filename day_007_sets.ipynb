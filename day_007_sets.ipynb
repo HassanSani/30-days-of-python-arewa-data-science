{
 "cells": [
  {
   "cell_type": "markdown",
   "id": "86c0c92f",
   "metadata": {},
   "source": [
    "# Exercises: Level 1\n",
    "1. Find the length of the set it_companies\n",
    "2. Add 'Twitter' to it_companies\n",
    "3. Insert multiple IT companies at once to the set it_companies\n",
    "4. Remove one of the companies from the set it_companies\n",
    "5. What is the difference between remove and discard "
   ]
  },
  {
   "cell_type": "code",
   "execution_count": 6,
   "id": "c198c7ed",
   "metadata": {},
   "outputs": [
    {
     "name": "stdout",
     "output_type": "stream",
     "text": [
      "Length: 7\n"
     ]
    },
    {
     "data": {
      "text/plain": [
       "{'Amazon',\n",
       " 'Apple',\n",
       " 'Facebook',\n",
       " 'Google',\n",
       " 'IBM',\n",
       " 'Microsoft',\n",
       " 'Oracle',\n",
       " 'Twitter'}"
      ]
     },
     "execution_count": 6,
     "metadata": {},
     "output_type": "execute_result"
    }
   ],
   "source": [
    "it_companies = {'Facebook', 'Google', 'Microsoft', 'Apple', 'IBM', 'Oracle', 'Amazon'}\n",
    "# Question 1\n",
    "#Find the length of the set it_companies\n",
    "\n",
    "print('Length:', len(it_companies))\n",
    "it_companies.add('Twitter')\n",
    "it_companies"
   ]
  },
  {
   "cell_type": "code",
   "execution_count": 2,
   "id": "19c4adf9",
   "metadata": {},
   "outputs": [
    {
     "data": {
      "text/plain": [
       "{'Amazon',\n",
       " 'Apple',\n",
       " 'Data camp',\n",
       " 'Facebook',\n",
       " 'Google',\n",
       " 'IBM',\n",
       " 'Microsoft',\n",
       " 'Oracle',\n",
       " 'Twitter',\n",
       " 'Udacity'}"
      ]
     },
     "execution_count": 2,
     "metadata": {},
     "output_type": "execute_result"
    }
   ],
   "source": [
    "#Inserting multiple compnanies\n",
    "it_companies.update(['Data camp', 'Udacity'])\n",
    "it_companies"
   ]
  },
  {
   "cell_type": "code",
   "execution_count": 3,
   "id": "7325e60f",
   "metadata": {},
   "outputs": [
    {
     "data": {
      "text/plain": [
       "{'Amazon',\n",
       " 'Data camp',\n",
       " 'Facebook',\n",
       " 'Google',\n",
       " 'IBM',\n",
       " 'Microsoft',\n",
       " 'Oracle',\n",
       " 'Twitter',\n",
       " 'Udacity'}"
      ]
     },
     "execution_count": 3,
     "metadata": {},
     "output_type": "execute_result"
    }
   ],
   "source": [
    "# remove Apple\n",
    "it_companies.remove('Apple')\n",
    "it_companies"
   ]
  },
  {
   "cell_type": "raw",
   "id": "7b810afc",
   "metadata": {},
   "source": [
    "Differences between remve and discard\n",
    "The discard() method removes the specified item from the set. \n",
    "This method is different from the remove() method, \n",
    "because the remove() method will raise an error if the specified item does not exist, \n",
    "and the discard() method will not."
   ]
  },
  {
   "cell_type": "raw",
   "id": "fc9a8e1f",
   "metadata": {},
   "source": [
    "Exercises: Level 2\n",
    "1. Join A and B\n",
    "2. Find A intersection B\n",
    "3. Is A subset of B\n",
    "4. Are A and B disjoint sets\n",
    "5. Join A with B and B with A\n",
    "6. What is the symmetric difference between A and B\n",
    "7. Delete the sets completely"
   ]
  },
  {
   "cell_type": "code",
   "execution_count": 13,
   "id": "a1437eec",
   "metadata": {},
   "outputs": [
    {
     "name": "stdout",
     "output_type": "stream",
     "text": [
      "Union: {19, 20, 22, 24, 25, 26, 27, 28}\n"
     ]
    },
    {
     "data": {
      "text/plain": [
       "('Intersection:', {19, 20, 22, 24, 25, 26})"
      ]
     },
     "execution_count": 13,
     "metadata": {},
     "output_type": "execute_result"
    }
   ],
   "source": [
    "A = {19, 22, 24, 20, 25, 26}\n",
    "B = {19, 22, 20, 25, 26, 24, 28, 27}\n",
    "\n",
    "C = A.union(B)\n",
    "print ('Union:', C)\n",
    "'Intersection:', A.intersection(B)\n"
   ]
  },
  {
   "cell_type": "code",
   "execution_count": 14,
   "id": "7abe3272",
   "metadata": {},
   "outputs": [
    {
     "data": {
      "text/plain": [
       "('A in B:', True)"
      ]
     },
     "execution_count": 14,
     "metadata": {},
     "output_type": "execute_result"
    }
   ],
   "source": [
    "'A in B:', A.issubset(B)"
   ]
  },
  {
   "cell_type": "code",
   "execution_count": 18,
   "id": "e74b09ac",
   "metadata": {},
   "outputs": [
    {
     "data": {
      "text/plain": [
       "False"
      ]
     },
     "execution_count": 18,
     "metadata": {},
     "output_type": "execute_result"
    }
   ],
   "source": [
    "# Are A and B disjoint sets\n",
    "A.isdisjoint(B)\n",
    "\n",
    "\n"
   ]
  },
  {
   "cell_type": "code",
   "execution_count": 17,
   "id": "b7dc8973",
   "metadata": {},
   "outputs": [
    {
     "data": {
      "text/plain": [
       "{19, 20, 22, 24, 25, 26, 27, 28}"
      ]
     },
     "execution_count": 17,
     "metadata": {},
     "output_type": "execute_result"
    }
   ],
   "source": [
    "A.union(B) #union of A and B"
   ]
  },
  {
   "cell_type": "code",
   "execution_count": 19,
   "id": "1cd117ac",
   "metadata": {},
   "outputs": [
    {
     "data": {
      "text/plain": [
       "{19, 20, 22, 24, 25, 26, 27, 28}"
      ]
     },
     "execution_count": 19,
     "metadata": {},
     "output_type": "execute_result"
    }
   ],
   "source": [
    "B.union(A)  #union of B and A"
   ]
  },
  {
   "cell_type": "code",
   "execution_count": 20,
   "id": "16746bf2",
   "metadata": {},
   "outputs": [
    {
     "data": {
      "text/plain": [
       "{27, 28}"
      ]
     },
     "execution_count": 20,
     "metadata": {},
     "output_type": "execute_result"
    }
   ],
   "source": [
    "#the symmetric difference between A and B\n",
    "\n",
    "A.symmetric_difference(B)"
   ]
  },
  {
   "cell_type": "code",
   "execution_count": 21,
   "id": "746a53bd",
   "metadata": {},
   "outputs": [],
   "source": [
    "# delete sets completely\n",
    "del A\n",
    "del B"
   ]
  },
  {
   "cell_type": "raw",
   "id": "a0237e15",
   "metadata": {},
   "source": [
    "Exercises: Level 3\n",
    "1. Convert the ages to a set and compare the length of the list and the set, which one is bigger?\n",
    "2. Explain the difference between the following data types: string, list, tuple and set\n",
    "3. I am a teacher and I love to inspire and teach people. How many unique words have been used in the sentence? \n",
    "Use the split methods and set to get the unique words."
   ]
  },
  {
   "cell_type": "code",
   "execution_count": 42,
   "id": "2b172439",
   "metadata": {
    "scrolled": true
   },
   "outputs": [
    {
     "name": "stdout",
     "output_type": "stream",
     "text": [
      "{19, 22, 24, 25, 26}\n",
      "Length of Age lsit: 8\n",
      "Length of Age set: 5\n"
     ]
    }
   ],
   "source": [
    "age = [22, 19, 24, 25, 26, 24, 25, 24]\n",
    "age_set = set(age)\n",
    "print(age_set)\n",
    "\n",
    "# Length of Ages list\n",
    "print('Length of Age lsit:', len(age))\n",
    "\n",
    "# Length of age set\n",
    "print ('Length of Age set:', len (age_set))\n"
   ]
  },
  {
   "cell_type": "code",
   "execution_count": 44,
   "id": "042c4c2d",
   "metadata": {},
   "outputs": [
    {
     "data": {
      "text/plain": [
       "False"
      ]
     },
     "execution_count": 44,
     "metadata": {},
     "output_type": "execute_result"
    }
   ],
   "source": [
    "8==5"
   ]
  },
  {
   "cell_type": "code",
   "execution_count": 45,
   "id": "ba9ceca4",
   "metadata": {},
   "outputs": [
    {
     "data": {
      "text/plain": [
       "False"
      ]
     },
     "execution_count": 45,
     "metadata": {},
     "output_type": "execute_result"
    }
   ],
   "source": [
    "8<5"
   ]
  },
  {
   "cell_type": "code",
   "execution_count": 46,
   "id": "62e0300f",
   "metadata": {
    "scrolled": true
   },
   "outputs": [
    {
     "data": {
      "text/plain": [
       "True"
      ]
     },
     "execution_count": 46,
     "metadata": {},
     "output_type": "execute_result"
    }
   ],
   "source": [
    "8>5"
   ]
  },
  {
   "cell_type": "code",
   "execution_count": 48,
   "id": "1532ad68",
   "metadata": {
    "scrolled": true
   },
   "outputs": [
    {
     "name": "stdout",
     "output_type": "stream",
     "text": [
      "The list is greater than the set\n"
     ]
    }
   ],
   "source": [
    "print ('The list is greater than the set')"
   ]
  },
  {
   "cell_type": "raw",
   "id": "b4e07c8c",
   "metadata": {},
   "source": [
    "A string is a sequence of characters between single or double quotes. \n",
    "A list is a sequence of items, where each item could be anything (an integer, a float, a string, etc).\n",
    "The tuples refer to the collections of various objects of Python separated by commas between them. \n",
    "The sets are an unordered collection of data types, \n",
    "These are mutable, iterable, and do not consist of any duplicate elements."
   ]
  },
  {
   "cell_type": "code",
   "execution_count": 50,
   "id": "8613993b",
   "metadata": {},
   "outputs": [
    {
     "name": "stdout",
     "output_type": "stream",
     "text": [
      "{'I', 'and', 'am', 'people', 'love', 'inspire', 'to', 'a', 'teacher', 'teach'}\n",
      "The number of unique words in the sentence is:  10\n"
     ]
    }
   ],
   "source": [
    "sent = \"I am a teacher and I love to inspire and teach people\"\n",
    "\n",
    "ans = set(sent.split())\n",
    "print(ans)\n",
    "\n",
    "print ('The number of unique words in the sentence is: ', len(ans))"
   ]
  },
  {
   "cell_type": "code",
   "execution_count": null,
   "id": "2f830724",
   "metadata": {},
   "outputs": [],
   "source": []
  }
 ],
 "metadata": {
  "kernelspec": {
   "display_name": "Python 3 (ipykernel)",
   "language": "python",
   "name": "python3"
  },
  "language_info": {
   "codemirror_mode": {
    "name": "ipython",
    "version": 3
   },
   "file_extension": ".py",
   "mimetype": "text/x-python",
   "name": "python",
   "nbconvert_exporter": "python",
   "pygments_lexer": "ipython3",
   "version": "3.9.12"
  }
 },
 "nbformat": 4,
 "nbformat_minor": 5
}
