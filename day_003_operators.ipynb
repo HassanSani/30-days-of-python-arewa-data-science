{
 "cells": [
  {
   "cell_type": "code",
   "execution_count": null,
   "id": "2ede6912",
   "metadata": {},
   "outputs": [],
   "source": [
    "# question 1-4\n",
    "\n",
    "age=31\n",
    "height=6.5\n",
    "complex_number=2+4j\n",
    "print(age)\n",
    "print(height)\n",
    "print(complex_number)"
   ]
  },
  {
   "cell_type": "code",
   "execution_count": null,
   "id": "c2d626d2",
   "metadata": {},
   "outputs": [],
   "source": [
    "#question 5.  Write a script that prompts the user to enter side a, side b, and side c of the triangle.\n",
    "#Calculate the perimeter of the triangle (perimeter = a + b + c).\n",
    "# Enter side a: 5\n",
    "#Enter side b: 4\n",
    "#Enter side c: 3\n",
    "#The perimeter of the triangle\n",
    "side_a = int(input('Enter side a:'))\n",
    "side_b = int(input('Enter side b:'))\n",
    "side_c = int(input('Enter side c:'))\n",
    "perimeter= (side_a + side_b + side_c)\n",
    "print('Perimeter of a triangle:', perimeter)"
   ]
  },
  {
   "cell_type": "code",
   "execution_count": null,
   "id": "7400c776",
   "metadata": {},
   "outputs": [],
   "source": [
    "# question 6\n",
    "#Get length and width of a rectangle using prompt. Calculate its area (area = length x\n",
    "#width) and perimeter (perimeter = 2 x (length + width)). say length=4, width=5\n",
    "length = int(input('Enter length:'))\n",
    "width = int(input('Enter widht:'))\n",
    "area= (length*width)\n",
    "print(area)"
   ]
  },
  {
   "cell_type": "code",
   "execution_count": null,
   "id": "3ed71819",
   "metadata": {},
   "outputs": [],
   "source": [
    "#Question 7\n",
    "#Get radius of a circle using prompt. Calculate the area (area = pi x r x r) and\n",
    "#circumference (c = 2 x pi x r) where pi = 3.14. say r=3\n",
    "\n",
    "r=3\n",
    "area=3.14*r*r\n",
    "c=2*3.14*r\n",
    "print('Circumference:', c)\n",
    "print('Area:', area)"
   ]
  },
  {
   "cell_type": "code",
   "execution_count": null,
   "id": "fc8b6c84",
   "metadata": {},
   "outputs": [],
   "source": [
    "#Calculate the slope, x-intercept and y-intercept of y = 2x -2\n",
    "#with the expression y=mx+b,\n",
    "#to find slope\n",
    "#Assuming,x=4\n",
    "x=4\n",
    "y=(2*x)-2\n",
    "print('Coordinate of Y:', y)\n",
    "print('Coordinate of X:', x)\n",
    "m=(y-b)/x\n",
    "print('Slope:', m)\n",
    "b=y-(m*x)\n",
    "print('Y intercept:', b)\n",
    "# to find X intrcept make y 0\n",
    "x=(b-0)/m\n",
    "print('X intercept:', x)"
   ]
  },
  {
   "cell_type": "code",
   "execution_count": null,
   "id": "239e288b",
   "metadata": {},
   "outputs": [],
   "source": [
    "# Question 9\n",
    "#Slope is (m = y2-y1/x2-x1). Find the slope and Euclidean distance between point (2, 2)\n",
    "# and point (6,10)\n",
    "x1=2\n",
    "x2=6\n",
    "y1=2\n",
    "y2=10\n",
    "m1=(y2-y1)/(x2-x1)\n",
    "print('Slope:', m1)\n",
    "\n",
    "#Find an Euclidian distance between (2, 2) and (6, 10)\n",
    "\n",
    "import math\n",
    "x= (2,2)\n",
    "y= (6, 10)\n",
    "distance= math.sqrt(sum([(a-b)**2 for a, b in zip(x,y)]))\n",
    "print(\"Euclidian distance from x to y:\", distance)"
   ]
  },
  {
   "cell_type": "code",
   "execution_count": null,
   "id": "9b879814",
   "metadata": {},
   "outputs": [],
   "source": [
    "# question 10. Compare the slopes in tasks 8 and 9.\n",
    "print(m==m1)"
   ]
  },
  {
   "cell_type": "code",
   "execution_count": null,
   "id": "ff476811",
   "metadata": {},
   "outputs": [],
   "source": [
    "# Find the length of 'python' and 'dragon' and make a falsy comparison statem\n",
    "len('python')"
   ]
  },
  {
   "cell_type": "code",
   "execution_count": null,
   "id": "af8c2458",
   "metadata": {},
   "outputs": [],
   "source": [
    "len('dragon')"
   ]
  },
  {
   "cell_type": "code",
   "execution_count": null,
   "id": "e125f249",
   "metadata": {},
   "outputs": [],
   "source": [
    "len('python')==len('dragon')"
   ]
  },
  {
   "cell_type": "code",
   "execution_count": null,
   "id": "75f4beeb",
   "metadata": {},
   "outputs": [],
   "source": [
    "len('python')!=len('dragon')"
   ]
  },
  {
   "cell_type": "code",
   "execution_count": null,
   "id": "e0440197",
   "metadata": {},
   "outputs": [],
   "source": [
    "# Use and operator to check if 'on' is found in both 'python' and 'dragon'\n",
    "print('on in Dragon', 'on' in 'dragon') \n",
    "print('on in Python', 'on' in 'python') \n",
    "print('on in Dragon', 'on' in 'dragon') and print('on in Python', 'on' in 'python') \n",
    "print('on in Dragon and Python', 'on' in 'dragon' and 'on' in 'python') "
   ]
  },
  {
   "cell_type": "code",
   "execution_count": null,
   "id": "752e92c1",
   "metadata": {},
   "outputs": [],
   "source": [
    "# I hope this course is not full of jargon. Use in operator to check if jargon is in the\n",
    "#sentence.\n",
    "print('jargon is in the sentence', 'jargon' in 'I hope this course is not full of jargon')\n"
   ]
  },
  {
   "cell_type": "code",
   "execution_count": null,
   "id": "51edc626",
   "metadata": {},
   "outputs": [],
   "source": [
    "# There is no 'on' in both dragon and python\n",
    "print('on' not in 'dragon' and python)"
   ]
  },
  {
   "cell_type": "code",
   "execution_count": null,
   "id": "deef4a11",
   "metadata": {},
   "outputs": [],
   "source": [
    "# Find the length of the text python and convert the value to float and convert it to\n",
    "#string\n",
    "print(float(len('python')))\n",
    "print(str(len('python')))"
   ]
  },
  {
   "cell_type": "code",
   "execution_count": null,
   "id": "479506c1",
   "metadata": {},
   "outputs": [],
   "source": [
    "# Even numbers are divisible by 2 and the remainder is zero. How do you check if a\n",
    "#number is even or not using python?\n",
    "num=int(input('Enter a number to tes if its odd or even:'))\n",
    "if (num%2)==0:\n",
    "    print('The number is even')\n",
    "else:\n",
    "    print('The number is odd')"
   ]
  },
  {
   "cell_type": "code",
   "execution_count": null,
   "id": "424b4a04",
   "metadata": {},
   "outputs": [],
   "source": [
    "# Check if the floor division of 7 by 3 is equal to the int converted value of 2.7.\n",
    "7//3==int(2.7)"
   ]
  },
  {
   "cell_type": "code",
   "execution_count": null,
   "id": "7efe6a82",
   "metadata": {},
   "outputs": [],
   "source": [
    "#  Check if type of '10' is equal to type of 10\n",
    "'10'==10"
   ]
  },
  {
   "cell_type": "code",
   "execution_count": null,
   "id": "4165ab3e",
   "metadata": {},
   "outputs": [],
   "source": [
    "# Check if int('9.8') is equal to 10\n",
    "int(9.8)==10"
   ]
  },
  {
   "cell_type": "code",
   "execution_count": null,
   "id": "f73b7399",
   "metadata": {},
   "outputs": [],
   "source": [
    "# Writ a script that prompts the user to enter hours and rate per hour. Calculate pay of\n",
    "#the person?\n",
    "#Enter hours: 40\n",
    "#Enter rate per hour: 28\n",
    "#Your weekly earning is 1120\n",
    "hours=int(input('Hours worked:'))\n",
    "rate_per_hour=int(input('Rate per hours worked'))\n",
    "weekly_earning = hours*rate_per_hour\n",
    "print('Pay of the person:', weekly_earning)\n"
   ]
  },
  {
   "cell_type": "code",
   "execution_count": null,
   "id": "df41bbd6",
   "metadata": {},
   "outputs": [],
   "source": [
    "# Write a script that prompts the user to enter number of years. Calculate the number\n",
    "# of seconds a person can live. Assume a person can live hundred years\n",
    "# Enter number of years you have lived: 100\n",
    "# You have lived for 3153600000 seconds.\n",
    "years=int(input('Enter your age:'))\n",
    "year_in_s=3153600000\n",
    "scbl=years*year_in_s\n",
    "print('Seconds livabe:', scbl)"
   ]
  },
  {
   "cell_type": "code",
   "execution_count": null,
   "id": "b0836101",
   "metadata": {},
   "outputs": [],
   "source": [
    "#  Write a Python script that displays the following table\n",
    "# 1 1 1 1 1\n",
    "#2 1 2 4 8\n",
    "#3 1 3 9 27\n",
    "#4 1 4 16 64\n",
    "#5 1 5 25 125\n",
    "print('1 1 1 1 1')\n",
    "print('2 1 2 4 8')\n",
    "print('3 1 3 9 27')\n",
    "print('4 1 4 16 64')\n",
    "print('5 1 5 25 125')"
   ]
  }
 ],
 "metadata": {
  "kernelspec": {
   "display_name": "Python 3 (ipykernel)",
   "language": "python",
   "name": "python3"
  },
  "language_info": {
   "codemirror_mode": {
    "name": "ipython",
    "version": 3
   },
   "file_extension": ".py",
   "mimetype": "text/x-python",
   "name": "python",
   "nbconvert_exporter": "python",
   "pygments_lexer": "ipython3",
   "version": "3.9.12"
  }
 },
 "nbformat": 4,
 "nbformat_minor": 5
}
