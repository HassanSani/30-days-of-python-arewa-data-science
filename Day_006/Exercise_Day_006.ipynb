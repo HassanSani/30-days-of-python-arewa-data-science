{
 "cells": [
  {
   "cell_type": "raw",
   "id": "d58083eb",
   "metadata": {},
   "source": [
    "Exercises: Level 1\n",
    "1. Create an empty tuple\n",
    "2. Create a tuple containing names of your sisters and your brothers (imaginary siblings are fine)\n",
    "3. Join brothers and sisters tuples and assign it to siblings\n",
    "4. How many siblings do you have\n",
    "5. Modify the siblings tuple and add the name of your father and mother and assign it to family_members"
   ]
  },
  {
   "cell_type": "code",
   "execution_count": 9,
   "id": "6d570c2a",
   "metadata": {},
   "outputs": [
    {
     "name": "stdout",
     "output_type": "stream",
     "text": [
      "()\n",
      "('Aliyos', 'KB', 'Bros')\n",
      "('Kim', 'Xin', 'Ping')\n",
      "siblings: ('Aliyos', 'KB', 'Bros', 'Kim', 'Xin', 'Ping')\n",
      "Length: 6\n",
      "['Aliyos', 'KB', 'Bros', 'Kim', 'Xin', 'Ping']\n",
      "Family members: ['Aliyos', 'KB', 'Bros', 'Kim', 'Xin', 'Ping', 'Father', 'Mother']\n"
     ]
    }
   ],
   "source": [
    "Empty_tuple = ()\n",
    "print(Empty_tuple)\n",
    "\n",
    "sisters =('Kim', 'Xin', 'Ping')\n",
    "brothers = ('Aliyos', 'KB', 'Bros')\n",
    "\n",
    "print (brothers)\n",
    "print (sisters)\n",
    "siblings = brothers + sisters\n",
    "\n",
    "print ('siblings:',siblings)\n",
    "print ('Length:',len(siblings))\n",
    "#add mother and Father\n",
    "family_members = list(siblings) \n",
    "\n",
    "print(family_members)\n",
    "family_members.append('Father')\n",
    "family_members.append('Mother')\n",
    "print('Family members:', family_members)\n"
   ]
  },
  {
   "cell_type": "raw",
   "id": "457beef0",
   "metadata": {},
   "source": [
    "Exercises: Level 2\n",
    "1. Unpack siblings and parents from family_members\n",
    "2. Create fruits, vegetables and animal products tuples. Join the three tuples and assign it to a variable called food_stuff_tp.\n",
    "3. Change the about food_stuff_tp tuple to a food_stuff_lt list\n",
    "4. Slice out the middle item or items from the food_stuff_tp tuple or food_stuff_lt list.\n",
    "5. Slice out the first three items and the last three items from food_staff_lt list\n",
    "6. Delete the food_staff_tp tuple completely\n",
    "7. Check if an item exists in tuple:\n",
    "Check if 'Estonia' is a nordic country\n",
    "Check if 'Iceland' is a nordic country"
   ]
  },
  {
   "cell_type": "code",
   "execution_count": 10,
   "id": "06c21244",
   "metadata": {},
   "outputs": [
    {
     "name": "stdout",
     "output_type": "stream",
     "text": [
      "Siblings: ['Aliyos', 'KB', 'Bros', 'Kim', 'Xin', 'Ping']\n",
      "Parents: ['Father', 'Mother']\n"
     ]
    }
   ],
   "source": [
    "siblings = family_members [0:6]\n",
    "parents = family_members[6:]\n",
    "\n",
    "print ('Siblings:', siblings)\n",
    "print('Parents:', parents)"
   ]
  },
  {
   "cell_type": "code",
   "execution_count": 20,
   "id": "1d199f17",
   "metadata": {},
   "outputs": [
    {
     "name": "stdout",
     "output_type": "stream",
     "text": [
      "Food stuf: ('Banana', 'Lemon', 'Guava', 'Brocoli', 'Cucumber', 'Onion', 'cabbage', 'Beaf', 'Pork', 'Chicken')\n",
      "Food stuff list: ['Banana', 'Lemon', 'Guava', 'Brocoli', 'Cucumber', 'Onion', 'cabbage', 'Beaf', 'Pork', 'Chicken']\n"
     ]
    }
   ],
   "source": [
    "fruits = ('Banana', 'Lemon', 'Guava')\n",
    "vegetables = ('Brocoli', 'Cucumber', 'Onion', 'cabbage')\n",
    "animal_products = ('Beaf', 'Pork', 'Chicken')\n",
    "\n",
    "food_stuff_tp = fruits + vegetables + animal_products\n",
    "print ('Food stuf:', food_stuff_tp)\n",
    "#convert to list\n",
    "\n",
    "food_stuff_lt = list (food_stuff_tp)\n",
    "print ('Food stuff list:', food_stuff_lt)\n"
   ]
  },
  {
   "cell_type": "code",
   "execution_count": 21,
   "id": "2e6a7c9c",
   "metadata": {},
   "outputs": [
    {
     "data": {
      "text/plain": [
       "['Cucumber', 'Onion']"
      ]
     },
     "execution_count": 21,
     "metadata": {},
     "output_type": "execute_result"
    }
   ],
   "source": [
    "food_stuff_lt [4:6]"
   ]
  },
  {
   "cell_type": "code",
   "execution_count": 19,
   "id": "f51336f8",
   "metadata": {},
   "outputs": [
    {
     "data": {
      "text/plain": [
       "['Banana', 'Lemon', 'Guava']"
      ]
     },
     "execution_count": 19,
     "metadata": {},
     "output_type": "execute_result"
    }
   ],
   "source": [
    "food_stuff_lt[:3]"
   ]
  },
  {
   "cell_type": "code",
   "execution_count": 22,
   "id": "3fb9a9bc",
   "metadata": {},
   "outputs": [],
   "source": [
    "del food_stuff_tp"
   ]
  },
  {
   "cell_type": "code",
   "execution_count": 23,
   "id": "3c917462",
   "metadata": {},
   "outputs": [
    {
     "name": "stdout",
     "output_type": "stream",
     "text": [
      "False\n",
      "True\n"
     ]
    }
   ],
   "source": [
    "nordic_countries = ('Denmark', 'Finland','Iceland', 'Norway', 'Sweden')\n",
    "\n",
    "# Check if 'Estonia' is a nordic country\n",
    "print ('Estonia' in nordic_countries)\n",
    "\n",
    "# Check if 'Iceland' is a nordic country\n",
    "print ('Iceland' in nordic_countries)"
   ]
  },
  {
   "cell_type": "code",
   "execution_count": null,
   "id": "5e2c7b62",
   "metadata": {},
   "outputs": [],
   "source": []
  }
 ],
 "metadata": {
  "kernelspec": {
   "display_name": "Python 3 (ipykernel)",
   "language": "python",
   "name": "python3"
  },
  "language_info": {
   "codemirror_mode": {
    "name": "ipython",
    "version": 3
   },
   "file_extension": ".py",
   "mimetype": "text/x-python",
   "name": "python",
   "nbconvert_exporter": "python",
   "pygments_lexer": "ipython3",
   "version": "3.9.12"
  }
 },
 "nbformat": 4,
 "nbformat_minor": 5
}
