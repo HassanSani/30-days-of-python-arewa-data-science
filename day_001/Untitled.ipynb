{
 "cells": [
  {
   "cell_type": "code",
   "execution_count": 1,
   "id": "b9ff7920",
   "metadata": {},
   "outputs": [
    {
     "name": "stdout",
     "output_type": "stream",
     "text": [
      "P\n",
      "1\n",
      "Hello, World!\n",
      "13\n",
      "I hope you are enjoying 30 days of Python Challenge\n"
     ]
    }
   ],
   "source": [
    "# Creating a string\n",
    "letter = 'P' # A string could be a single character or a bunch o\n",
    "print(letter) # P\n",
    "print(len(letter)) # 1\n",
    "greeting = 'Hello, World!' # String could be made using a single or double quo\n",
    "print(greeting) # Hello, World!\n",
    "print(len(greeting)) # 13\n",
    "sentence = \"I hope you are enjoying 30 days of Python Challenge\"\n",
    "print(sentence)"
   ]
  },
  {
   "cell_type": "code",
   "execution_count": 4,
   "id": "0478a5a4",
   "metadata": {},
   "outputs": [
    {
     "name": "stdout",
     "output_type": "stream",
     "text": [
      "I am a teacher and enjoy teaching.\n",
      "I didn't find anything as rewarding as empowering people.\n",
      "That is why I created 30 days of python.\n",
      "I am a teacher and enjoy teaching.\n",
      "I didn't find anything as rewarding as empowering people.\n",
      "That is why I created 30 days of python.\n"
     ]
    }
   ],
   "source": [
    "# Multiline string is created by using triple single (''') or triple double quotes (\"\"\"). See the\n",
    "#example below.\n",
    "multiline_string = '''I am a teacher and enjoy teaching.\n",
    "I didn't find anything as rewarding as empowering people.\n",
    "That is why I created 30 days of python.'''\n",
    "print(multiline_string)\n",
    "# Another way of doing the same thing\n",
    "\n",
    "\n",
    "multiline_string = \"\"\"I am a teacher and enjoy teaching.\n",
    "I didn't find anything as rewarding as empowering people.\n",
    "That is why I created 30 days of python.\"\"\"\n",
    "print(multiline_string)"
   ]
  },
  {
   "cell_type": "code",
   "execution_count": null,
   "id": "e5518e06",
   "metadata": {},
   "outputs": [],
   "source": [
    "# Another way of doing the same thing\n",
    "multiline_string = \"\"\"I am a teacher and enjoy teaching.\n",
    "I didn't find anything as rewarding as empowering people.\n",
    "That is why I created 30 days of python.\"\"\"\n",
    "print(multiline_string)"
   ]
  },
  {
   "cell_type": "code",
   "execution_count": 7,
   "id": "0661ee8a",
   "metadata": {},
   "outputs": [
    {
     "name": "stdout",
     "output_type": "stream",
     "text": [
      "Asabeneh Yetayeh\n",
      "8\n",
      "7\n",
      "True\n",
      "16\n",
      "15\n",
      "1.1428571428571428\n"
     ]
    }
   ],
   "source": [
    "# string concatenation\n",
    "first_name = 'Asabeneh'\n",
    "last_name = 'Yetayeh'\n",
    "space = ' '\n",
    "full_name = first_name + space + last_name\n",
    "print(full_name) # Asabeneh Yetayeh\n",
    "# Checking the length of a string using len() built-in function\n",
    "print(len(first_name)) # 8\n",
    "print(len(last_name)) # 7\n",
    "print(len(first_name) > len(last_name)) # True\n",
    "print(len(full_name)) # 16\n",
    "# sum the lengths of 2 strings\n",
    "print(len(first_name) + len(last_name))\n",
    "# divide the lengths of a string by another\n",
    "print(len(first_name) / len(last_name))\n"
   ]
  },
  {
   "cell_type": "code",
   "execution_count": 10,
   "id": "0dc79778",
   "metadata": {},
   "outputs": [],
   "source": [
    "# Escape Sequences in Strings\n",
    "# In Python and other programming languages \\ followed by a character is an escape\n",
    "# sequence. Let us see the most common escape characters:\n",
    "#\\n: new line\n",
    "#\\t: Tab means(8 spaces)\n",
    "#\\\\: Back slash\n",
    "#\\': Single quote (')\n",
    "#\\\": Double quote (\")\n"
   ]
  },
  {
   "cell_type": "code",
   "execution_count": 20,
   "id": "e0ec42e3",
   "metadata": {},
   "outputs": [
    {
     "name": "stdout",
     "output_type": "stream",
     "text": [
      "I hope everyone is enjoying the Python Challenge.\n",
      "Are you ?\n",
      "Days\tTopics\tExercises\n",
      "Day 1\t3\t5\n",
      "Day 3\t3\t5\n",
      "Day 3\t3\t5\n",
      "This is a backslash symbol (\\)\n",
      "In every programming language it starts with \"Hello, World!\"\n",
      "In every programming language it starts with \"Hello, World!\"\n"
     ]
    }
   ],
   "source": [
    "print('I hope everyone is enjoying the Python Challenge.\\nAre you ?') # line br\n",
    "print('Days\\tTopics\\tExercises') # adding tab space or 4 spaces\n",
    "print('Day 1\\t3\\t5')\n",
    "print('Day 3\\t3\\t5')\n",
    "print('Day 3\\t3\\t5')\n",
    "print('This is a backslash symbol (\\\\)') # To write a backslash\n",
    "print('In every programming language it starts with \\\"Hello, World!\\\"') # to w\n",
    "print('In every programming language it starts with \"Hello, World!\"') # to w"
   ]
  },
  {
   "cell_type": "code",
   "execution_count": null,
   "id": "2c9146bc",
   "metadata": {},
   "outputs": [],
   "source": []
  },
  {
   "cell_type": "code",
   "execution_count": null,
   "id": "f95a4022",
   "metadata": {},
   "outputs": [],
   "source": []
  },
  {
   "cell_type": "code",
   "execution_count": null,
   "id": "135d41db",
   "metadata": {},
   "outputs": [],
   "source": []
  },
  {
   "cell_type": "code",
   "execution_count": null,
   "id": "4a46cdd1",
   "metadata": {},
   "outputs": [],
   "source": []
  },
  {
   "cell_type": "markdown",
   "id": "0f7b5f30",
   "metadata": {},
   "source": []
  },
  {
   "cell_type": "code",
   "execution_count": null,
   "id": "d8924738",
   "metadata": {},
   "outputs": [],
   "source": []
  },
  {
   "cell_type": "code",
   "execution_count": null,
   "id": "3fbf1b1d",
   "metadata": {},
   "outputs": [],
   "source": []
  },
  {
   "cell_type": "code",
   "execution_count": null,
   "id": "0e1c952f",
   "metadata": {},
   "outputs": [],
   "source": []
  },
  {
   "cell_type": "code",
   "execution_count": null,
   "id": "c8255ab2",
   "metadata": {},
   "outputs": [],
   "source": []
  }
 ],
 "metadata": {
  "kernelspec": {
   "display_name": "Python 3 (ipykernel)",
   "language": "python",
   "name": "python3"
  },
  "language_info": {
   "codemirror_mode": {
    "name": "ipython",
    "version": 3
   },
   "file_extension": ".py",
   "mimetype": "text/x-python",
   "name": "python",
   "nbconvert_exporter": "python",
   "pygments_lexer": "ipython3",
   "version": "3.9.12"
  }
 },
 "nbformat": 4,
 "nbformat_minor": 5
}
