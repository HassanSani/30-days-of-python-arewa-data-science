{
 "cells": [
  {
   "cell_type": "markdown",
   "id": "24e0d7e4",
   "metadata": {},
   "source": [
    "Exercise day 16\n",
    "1. Get the current day, month, year, hour, minute and timestamp from datetime\n",
    "module\n",
    "2. Format the current date using this format: \"%m/%d/%Y, %H:%M:%S\")\n",
    "3. Today is 5 December, 2019. Change this time string to time.\n",
    "4. Calculate the time difference between now and new year.\n",
    "5. Calculate the time difference between 1 January 1970 and now.\n",
    "6. Think, what can you use the datetime module for? Examples:\n",
    "Time series analysis\n",
    "To get a timestamp of any activities in an application\n",
    "Adding posts on a blog\n"
   ]
  },
  {
   "cell_type": "code",
   "execution_count": 2,
   "id": "e4186953",
   "metadata": {},
   "outputs": [
    {
     "name": "stdout",
     "output_type": "stream",
     "text": [
      "2023-04-03 14:32:15.635707\n"
     ]
    }
   ],
   "source": [
    "#Q1\n",
    "from datetime import datetime\n",
    "current = datetime.now()\n",
    "print(current)"
   ]
  },
  {
   "cell_type": "code",
   "execution_count": 3,
   "id": "d0ec1901",
   "metadata": {},
   "outputs": [
    {
     "name": "stdout",
     "output_type": "stream",
     "text": [
      "2023-04-03 14:34:16.502983\n"
     ]
    }
   ],
   "source": [
    "#Q2\n",
    "from datetime import datetime\n",
    "current = datetime.now()\n",
    "t = current.strftime('%H:%M:%S')\n",
    "print(current)\n"
   ]
  },
  {
   "cell_type": "code",
   "execution_count": 6,
   "id": "50dc57f9",
   "metadata": {},
   "outputs": [
    {
     "name": "stdout",
     "output_type": "stream",
     "text": [
      "day_object = 2019-12-05 00:00:00\n"
     ]
    }
   ],
   "source": [
    "#Q3\n",
    "day_string = '5 December, 2019'\n",
    "day_object = datetime.strptime(day_string, \"%d %B, %Y\")\n",
    "print(\"day_object =\", day_object)\n"
   ]
  },
  {
   "cell_type": "code",
   "execution_count": 7,
   "id": "9ea8ebd5",
   "metadata": {},
   "outputs": [
    {
     "name": "stdout",
     "output_type": "stream",
     "text": [
      "differen= 272 days, 0:00:00\n"
     ]
    }
   ],
   "source": [
    "#Q4\n",
    "from datetime import date\n",
    "current_year = date(year=2023, month=4, day=4)\n",
    "new_year= date(year=2024, month=1, day=1)\n",
    "diff=new_year-current_year\n",
    "print('differen=', diff)"
   ]
  },
  {
   "cell_type": "code",
   "execution_count": 11,
   "id": "f89fa820",
   "metadata": {},
   "outputs": [
    {
     "name": "stdout",
     "output_type": "stream",
     "text": [
      "differen= 19451 days, 0:00:00\n"
     ]
    }
   ],
   "source": [
    "#Q5\n",
    "\n",
    "from datetime import date\n",
    "current_year = date(year=2023, month=4, day=4)\n",
    "past_year= date(year=1970, month=1, day=1)\n",
    "diff=current_year-past_year\n",
    "print('differen=', diff)"
   ]
  },
  {
   "cell_type": "markdown",
   "id": "7c60c985",
   "metadata": {},
   "source": [
    "#Q6\n",
    "application of timedate module\n",
    "1. time manipulation\n",
    "2. formating time\n",
    "3. setting file IDs\n",
    "4. zoning time"
   ]
  },
  {
   "cell_type": "code",
   "execution_count": null,
   "id": "9b6f98d1",
   "metadata": {},
   "outputs": [],
   "source": []
  }
 ],
 "metadata": {
  "kernelspec": {
   "display_name": "Python 3 (ipykernel)",
   "language": "python",
   "name": "python3"
  },
  "language_info": {
   "codemirror_mode": {
    "name": "ipython",
    "version": 3
   },
   "file_extension": ".py",
   "mimetype": "text/x-python",
   "name": "python",
   "nbconvert_exporter": "python",
   "pygments_lexer": "ipython3",
   "version": "3.9.12"
  }
 },
 "nbformat": 4,
 "nbformat_minor": 5
}
